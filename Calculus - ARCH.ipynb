{
 "cells": [
  {
   "cell_type": "code",
   "execution_count": 1,
   "metadata": {
    "collapsed": false
   },
   "outputs": [],
   "source": [
    "import pandas as pd\n",
    "import matplotlib.pyplot as plt\n",
    "import arch\n",
    "from arch.univariate import arch_model\n",
    "\n",
    "column_1 = 'vwretd'\n",
    "\n",
    "#讀取Excel資料,建構日期數列,調整已讀取之數據\n",
    "#合成以日期為Index的DataFrame  ==> data\n",
    "df=pd.read_csv('D:/data/spreturn.csv')\n",
    "Date=df['date']\n",
    "df = df.drop('date',axis = 1)\n",
    "df = df.drop('year',axis = 1)\n",
    "df = df.drop('month',axis = 1)\n",
    "df = df.drop('day',axis = 1)\n",
    "df = df.values\n",
    "data=pd.DataFrame(df,columns=[column_1])\n",
    "#data=pd.DataFrame(df,index=Date,columns=[column_1])"
   ]
  },
  {
   "cell_type": "code",
   "execution_count": 2,
   "metadata": {
    "collapsed": false,
    "scrolled": true
   },
   "outputs": [
    {
     "name": "stdout",
     "output_type": "stream",
     "text": [
      "Inequality constraints incompatible    (Exit mode 4)\n",
      "            Current function value: -80486.0872139\n",
      "            Iterations: 1\n",
      "            Function evaluations: 6\n",
      "            Gradient evaluations: 1\n",
      "                     Constant Mean - GARCH Model Results                      \n",
      "==============================================================================\n",
      "Dep. Variable:                 vwretd   R-squared:                       0.000\n",
      "Mean Model:             Constant Mean   Adj. R-squared:                  0.000\n",
      "Vol Model:                      GARCH   Log-Likelihood:                80486.1\n",
      "Distribution:                  Normal   AIC:                          -160964.\n",
      "Method:            Maximum Likelihood   BIC:                          -160932.\n",
      "                                        No. Observations:                23786\n",
      "Date:                Fri, Dec 30 2016   Df Residuals:                    23782\n",
      "Time:                        17:04:26   Df Model:                            4\n",
      "                                  Mean Model                                  \n",
      "==============================================================================\n",
      "                 coef    std err          t      P>|t|        95.0% Conf. Int.\n",
      "------------------------------------------------------------------------------\n",
      "mu         4.0592e-04  4.494e-05      9.032  1.690e-19   [3.178e-04,4.940e-04]\n",
      "                               Volatility Model                               \n",
      "==============================================================================\n",
      "                 coef    std err          t      P>|t|        95.0% Conf. Int.\n",
      "------------------------------------------------------------------------------\n",
      "omega      2.2669e-06  7.542e-13  3.006e+06      0.000   [2.267e-06,2.267e-06]\n",
      "alpha[1]       0.1000  2.768e-03     36.129 7.817e-286     [9.458e-02,  0.105]\n",
      "beta[1]        0.8800  3.030e-03    290.441      0.000       [  0.874,  0.886]\n",
      "==============================================================================\n",
      "\n",
      "Covariance estimator: robust\n",
      "\n",
      "WARNING: The optimizer did not indicate sucessful convergence. The message was\n",
      "Inequality constraints incompatible. See convergence_flag.\n"
     ]
    },
    {
     "name": "stderr",
     "output_type": "stream",
     "text": [
      "C:\\Program Files\\Anaconda3\\lib\\site-packages\\arch\\univariate\\base.py:510: ConvergenceWarning: \n",
      "The optimizer returned code 4. The message is:\n",
      "Inequality constraints incompatible\n",
      "See scipy.optimize.fmin_slsqp for code meaning.\n",
      "\n",
      "  ConvergenceWarning)\n"
     ]
    }
   ],
   "source": [
    "#GARCH(1,1)  ==> prediction of conditional vilatility\n",
    "am = arch_model(data[column_1],p=1,q=1)\n",
    "result = am.fit(update_freq=6)\n",
    "print (result.summary())"
   ]
  },
  {
   "cell_type": "code",
   "execution_count": 3,
   "metadata": {
    "collapsed": false
   },
   "outputs": [
    {
     "data": {
      "image/png": "[encoded data removed]",
      "text/plain": [
       "<matplotlib.figure.Figure at 0x1c0f89ece80>"
      ]
     },
     "execution_count": 3,
     "metadata": {},
     "output_type": "execute_result"
    }
   ],
   "source": [
    "#年化\n",
    "result.plot(annualize = 'D')"
   ]
  },
  {
   "cell_type": "code",
   "execution_count": 4,
   "metadata": {
    "collapsed": false
   },
   "outputs": [
    {
     "data": {
      "image/png": "[encoded data removed]",
      "text/plain": [
       "<matplotlib.figure.Figure at 0x1c0f89ece10>"
      ]
     },
     "execution_count": 4,
     "metadata": {},
     "output_type": "execute_result"
    }
   ],
   "source": [
    "result.plot()"
   ]
  },
  {
   "cell_type": "code",
   "execution_count": 6,
   "metadata": {
    "collapsed": false
   },
   "outputs": [
    {
     "data": {
      "image/png": "[encoded data removed]",
      "text/plain": [
       "<matplotlib.figure.Figure at 0x1dc43a7b400>"
      ]
     },
     "execution_count": 6,
     "metadata": {},
     "output_type": "execute_result"
    }
   ],
   "source": [
    "result.hedgehog_plot()"
   ]
  },
  {
   "cell_type": "code",
   "execution_count": 5,
   "metadata": {
    "collapsed": true
   },
   "outputs": [],
   "source": [
    "#dir(arch)"
   ]
  },
  {
   "cell_type": "code",
   "execution_count": 6,
   "metadata": {
    "collapsed": false,
    "scrolled": true
   },
   "outputs": [],
   "source": [
    "#dir(arch.univariate)"
   ]
  },
  {
   "cell_type": "code",
   "execution_count": 7,
   "metadata": {
    "collapsed": false,
    "scrolled": true
   },
   "outputs": [
    {
     "name": "stdout",
     "output_type": "stream",
     "text": [
      "Inequality constraints incompatible    (Exit mode 4)\n",
      "            Current function value: -80510.0272671\n",
      "            Iterations: 1\n",
      "            Function evaluations: 8\n",
      "            Gradient evaluations: 1\n",
      "                     Constant Mean - GARCH Model Results                      \n",
      "==============================================================================\n",
      "Dep. Variable:                 vwretd   R-squared:                       0.000\n",
      "Mean Model:             Constant Mean   Adj. R-squared:                  0.000\n",
      "Vol Model:                      GARCH   Log-Likelihood:                80510.0\n",
      "Distribution:                  Normal   AIC:                          -161008.\n",
      "Method:            Maximum Likelihood   BIC:                          -160960.\n",
      "                                        No. Observations:                23786\n",
      "Date:                Fri, Dec 30 2016   Df Residuals:                    23780\n",
      "Time:                        17:04:50   Df Model:                            6\n",
      "                                  Mean Model                                  \n",
      "==============================================================================\n",
      "                 coef    std err          t      P>|t|        95.0% Conf. Int.\n",
      "------------------------------------------------------------------------------\n",
      "mu         4.0592e-04  6.112e-05      6.641  3.111e-11   [2.861e-04,5.257e-04]\n",
      "                               Volatility Model                               \n",
      "==============================================================================\n",
      "                 coef    std err          t      P>|t|        95.0% Conf. Int.\n",
      "------------------------------------------------------------------------------\n",
      "omega      2.2669e-06  1.943e-12  1.167e+06      0.000   [2.267e-06,2.267e-06]\n",
      "alpha[1]       0.2000  1.672e-03    119.586      0.000       [  0.197,  0.203]\n",
      "beta[1]        0.2600  5.216e-02      4.985  6.193e-07       [  0.158,  0.362]\n",
      "beta[2]        0.2600  6.552e-02      3.968  7.234e-05       [  0.132,  0.388]\n",
      "beta[3]        0.2600  4.050e-02      6.420  1.361e-10       [  0.181,  0.339]\n",
      "==============================================================================\n",
      "\n",
      "Covariance estimator: robust\n",
      "\n",
      "WARNING: The optimizer did not indicate sucessful convergence. The message was\n",
      "Inequality constraints incompatible. See convergence_flag.\n"
     ]
    },
    {
     "name": "stderr",
     "output_type": "stream",
     "text": [
      "C:\\Program Files\\Anaconda3\\lib\\site-packages\\arch\\univariate\\base.py:510: ConvergenceWarning: \n",
      "The optimizer returned code 4. The message is:\n",
      "Inequality constraints incompatible\n",
      "See scipy.optimize.fmin_slsqp for code meaning.\n",
      "\n",
      "  ConvergenceWarning)\n"
     ]
    }
   ],
   "source": [
    "am = arch_model(data[column_1],lags=1,vol='GARCH')\n",
    "result = am.fit(update_freq=6)\n",
    "print (result.summary())"
   ]
  },
  {
   "cell_type": "code",
   "execution_count": 8,
   "metadata": {
    "collapsed": false,
    "scrolled": true
   },
   "outputs": [
    {
     "data": {
      "image/png": "[encoded data removed]",
      "text/plain": [
       "<matplotlib.figure.Figure at 0x1c0f89ecd68>"
      ]
     },
     "execution_count": 8,
     "metadata": {},
     "output_type": "execute_result"
    }
   ],
   "source": [
    "result.plot()"
   ]
  },
  {
   "cell_type": "code",
   "execution_count": 11,
   "metadata": {
    "collapsed": false,
    "scrolled": true
   },
   "outputs": [
    {
     "name": "stdout",
     "output_type": "stream",
     "text": [
      "Iteration:      6,   Func. Count:     78,   Neg. LLF: -76413.38824142626\n",
      "Positive directional derivative for linesearch    (Exit mode 8)\n",
      "            Current function value: -76413.3818877\n",
      "            Iterations: 15\n",
      "            Function evaluations: 151\n",
      "            Gradient evaluations: 11\n",
      "Iteration:      6,   Func. Count:     78,   Neg. LLF: -76413.38824142626\n"
     ]
    },
    {
     "name": "stderr",
     "output_type": "stream",
     "text": [
      "C:\\Program Files\\Anaconda3\\lib\\site-packages\\arch\\univariate\\base.py:510: ConvergenceWarning: \n",
      "The optimizer returned code 8. The message is:\n",
      "Positive directional derivative for linesearch\n",
      "See scipy.optimize.fmin_slsqp for code meaning.\n",
      "\n",
      "  ConvergenceWarning)\n"
     ]
    },
    {
     "name": "stdout",
     "output_type": "stream",
     "text": [
      "Positive directional derivative for linesearch    (Exit mode 8)\n",
      "            Current function value: -76413.3818877\n",
      "            Iterations: 15\n",
      "            Function evaluations: 151\n",
      "            Gradient evaluations: 11\n",
      "Iteration:      6,   Func. Count:     78,   Neg. LLF: -76413.38824142626\n",
      "Positive directional derivative for linesearch    (Exit mode 8)\n",
      "            Current function value: -76413.3818877\n",
      "            Iterations: 15\n",
      "            Function evaluations: 151\n",
      "            Gradient evaluations: 11\n"
     ]
    },
    {
     "name": "stderr",
     "output_type": "stream",
     "text": [
      "C:\\Program Files\\Anaconda3\\lib\\site-packages\\arch\\univariate\\base.py:510: ConvergenceWarning: \n",
      "The optimizer returned code 8. The message is:\n",
      "Positive directional derivative for linesearch\n",
      "See scipy.optimize.fmin_slsqp for code meaning.\n",
      "\n",
      "  ConvergenceWarning)\n",
      "C:\\Program Files\\Anaconda3\\lib\\site-packages\\arch\\univariate\\base.py:510: ConvergenceWarning: \n",
      "The optimizer returned code 8. The message is:\n",
      "Positive directional derivative for linesearch\n",
      "See scipy.optimize.fmin_slsqp for code meaning.\n",
      "\n",
      "  ConvergenceWarning)\n"
     ]
    },
    {
     "name": "stdout",
     "output_type": "stream",
     "text": [
      "Iteration:      6,   Func. Count:     78,   Neg. LLF: -76413.38824142626\n",
      "Positive directional derivative for linesearch    (Exit mode 8)\n",
      "            Current function value: -76413.3818877\n",
      "            Iterations: 15\n",
      "            Function evaluations: 151\n",
      "            Gradient evaluations: 11\n",
      "Iteration:      6,   Func. Count:     78,   Neg. LLF: -76413.38824142626\n"
     ]
    },
    {
     "name": "stderr",
     "output_type": "stream",
     "text": [
      "C:\\Program Files\\Anaconda3\\lib\\site-packages\\arch\\univariate\\base.py:510: ConvergenceWarning: \n",
      "The optimizer returned code 8. The message is:\n",
      "Positive directional derivative for linesearch\n",
      "See scipy.optimize.fmin_slsqp for code meaning.\n",
      "\n",
      "  ConvergenceWarning)\n",
      "C:\\Program Files\\Anaconda3\\lib\\site-packages\\arch\\univariate\\base.py:510: ConvergenceWarning: \n",
      "The optimizer returned code 8. The message is:\n",
      "Positive directional derivative for linesearch\n",
      "See scipy.optimize.fmin_slsqp for code meaning.\n",
      "\n",
      "  ConvergenceWarning)\n"
     ]
    },
    {
     "name": "stdout",
     "output_type": "stream",
     "text": [
      "Positive directional derivative for linesearch    (Exit mode 8)\n",
      "            Current function value: -76413.3818877\n",
      "            Iterations: 15\n",
      "            Function evaluations: 151\n",
      "            Gradient evaluations: 11\n",
      "Iteration:      6,   Func. Count:     78,   Neg. LLF: -76413.38824142626\n",
      "Positive directional derivative for linesearch    (Exit mode 8)\n",
      "            Current function value: -76413.3818877\n",
      "            Iterations: 15\n",
      "            Function evaluations: 151\n",
      "            Gradient evaluations: 11\n",
      "Iteration:      6,   Func. Count:     78,   Neg. LLF: -76413.38824142626\n"
     ]
    },
    {
     "name": "stderr",
     "output_type": "stream",
     "text": [
      "C:\\Program Files\\Anaconda3\\lib\\site-packages\\arch\\univariate\\base.py:510: ConvergenceWarning: \n",
      "The optimizer returned code 8. The message is:\n",
      "Positive directional derivative for linesearch\n",
      "See scipy.optimize.fmin_slsqp for code meaning.\n",
      "\n",
      "  ConvergenceWarning)\n"
     ]
    },
    {
     "name": "stdout",
     "output_type": "stream",
     "text": [
      "Positive directional derivative for linesearch    (Exit mode 8)\n",
      "            Current function value: -76413.3818877\n",
      "            Iterations: 15\n",
      "            Function evaluations: 151\n",
      "            Gradient evaluations: 11\n",
      "Iteration:      6,   Func. Count:     78,   Neg. LLF: -76413.38824142626\n"
     ]
    },
    {
     "name": "stderr",
     "output_type": "stream",
     "text": [
      "C:\\Program Files\\Anaconda3\\lib\\site-packages\\arch\\univariate\\base.py:510: ConvergenceWarning: \n",
      "The optimizer returned code 8. The message is:\n",
      "Positive directional derivative for linesearch\n",
      "See scipy.optimize.fmin_slsqp for code meaning.\n",
      "\n",
      "  ConvergenceWarning)\n"
     ]
    },
    {
     "name": "stdout",
     "output_type": "stream",
     "text": [
      "Positive directional derivative for linesearch    (Exit mode 8)\n",
      "            Current function value: -76413.3818877\n",
      "            Iterations: 15\n",
      "            Function evaluations: 151\n",
      "            Gradient evaluations: 11\n",
      "Iteration:      6,   Func. Count:     78,   Neg. LLF: -76413.38824142626\n"
     ]
    },
    {
     "name": "stderr",
     "output_type": "stream",
     "text": [
      "C:\\Program Files\\Anaconda3\\lib\\site-packages\\arch\\univariate\\base.py:510: ConvergenceWarning: \n",
      "The optimizer returned code 8. The message is:\n",
      "Positive directional derivative for linesearch\n",
      "See scipy.optimize.fmin_slsqp for code meaning.\n",
      "\n",
      "  ConvergenceWarning)\n"
     ]
    },
    {
     "name": "stdout",
     "output_type": "stream",
     "text": [
      "Positive directional derivative for linesearch    (Exit mode 8)\n",
      "            Current function value: -76413.3818877\n",
      "            Iterations: 15\n",
      "            Function evaluations: 151\n",
      "            Gradient evaluations: 11\n",
      "Iteration:      6,   Func. Count:     78,   Neg. LLF: -76413.38824142626\n"
     ]
    },
    {
     "name": "stderr",
     "output_type": "stream",
     "text": [
      "C:\\Program Files\\Anaconda3\\lib\\site-packages\\arch\\univariate\\base.py:510: ConvergenceWarning: \n",
      "The optimizer returned code 8. The message is:\n",
      "Positive directional derivative for linesearch\n",
      "See scipy.optimize.fmin_slsqp for code meaning.\n",
      "\n",
      "  ConvergenceWarning)\n"
     ]
    },
    {
     "name": "stdout",
     "output_type": "stream",
     "text": [
      "Positive directional derivative for linesearch    (Exit mode 8)\n",
      "            Current function value: -76413.3818877\n",
      "            Iterations: 15\n",
      "            Function evaluations: 151\n",
      "            Gradient evaluations: 11\n",
      "Iteration:      6,   Func. Count:     78,   Neg. LLF: -76413.38824142626\n"
     ]
    },
    {
     "name": "stderr",
     "output_type": "stream",
     "text": [
      "C:\\Program Files\\Anaconda3\\lib\\site-packages\\arch\\univariate\\base.py:510: ConvergenceWarning: \n",
      "The optimizer returned code 8. The message is:\n",
      "Positive directional derivative for linesearch\n",
      "See scipy.optimize.fmin_slsqp for code meaning.\n",
      "\n",
      "  ConvergenceWarning)\n"
     ]
    },
    {
     "name": "stdout",
     "output_type": "stream",
     "text": [
      "Positive directional derivative for linesearch    (Exit mode 8)\n",
      "            Current function value: -76413.3818877\n",
      "            Iterations: 15\n",
      "            Function evaluations: 151\n",
      "            Gradient evaluations: 11\n",
      "Iteration:      6,   Func. Count:     78,   Neg. LLF: -76413.38824142626\n"
     ]
    },
    {
     "name": "stderr",
     "output_type": "stream",
     "text": [
      "C:\\Program Files\\Anaconda3\\lib\\site-packages\\arch\\univariate\\base.py:510: ConvergenceWarning: \n",
      "The optimizer returned code 8. The message is:\n",
      "Positive directional derivative for linesearch\n",
      "See scipy.optimize.fmin_slsqp for code meaning.\n",
      "\n",
      "  ConvergenceWarning)\n"
     ]
    },
    {
     "name": "stdout",
     "output_type": "stream",
     "text": [
      "Positive directional derivative for linesearch    (Exit mode 8)\n",
      "            Current function value: -76413.3818877\n",
      "            Iterations: 15\n",
      "            Function evaluations: 151\n",
      "            Gradient evaluations: 11\n",
      "Iteration:      6,   Func. Count:     78,   Neg. LLF: -76413.38824142626\n"
     ]
    },
    {
     "name": "stderr",
     "output_type": "stream",
     "text": [
      "C:\\Program Files\\Anaconda3\\lib\\site-packages\\arch\\univariate\\base.py:510: ConvergenceWarning: \n",
      "The optimizer returned code 8. The message is:\n",
      "Positive directional derivative for linesearch\n",
      "See scipy.optimize.fmin_slsqp for code meaning.\n",
      "\n",
      "  ConvergenceWarning)\n"
     ]
    },
    {
     "name": "stdout",
     "output_type": "stream",
     "text": [
      "Positive directional derivative for linesearch    (Exit mode 8)\n",
      "            Current function value: -76413.3818877\n",
      "            Iterations: 15\n",
      "            Function evaluations: 151\n",
      "            Gradient evaluations: 11\n",
      "Iteration:      6,   Func. Count:     78,   Neg. LLF: -76413.38824142626\n",
      "Positive directional derivative for linesearch    (Exit mode 8)\n",
      "            Current function value: -76413.3818877\n",
      "            Iterations: 15\n",
      "            Function evaluations: 151\n",
      "            Gradient evaluations: 11\n"
     ]
    },
    {
     "name": "stderr",
     "output_type": "stream",
     "text": [
      "C:\\Program Files\\Anaconda3\\lib\\site-packages\\arch\\univariate\\base.py:510: ConvergenceWarning: \n",
      "The optimizer returned code 8. The message is:\n",
      "Positive directional derivative for linesearch\n",
      "See scipy.optimize.fmin_slsqp for code meaning.\n",
      "\n",
      "  ConvergenceWarning)\n",
      "C:\\Program Files\\Anaconda3\\lib\\site-packages\\arch\\univariate\\base.py:510: ConvergenceWarning: \n",
      "The optimizer returned code 8. The message is:\n",
      "Positive directional derivative for linesearch\n",
      "See scipy.optimize.fmin_slsqp for code meaning.\n",
      "\n",
      "  ConvergenceWarning)\n"
     ]
    },
    {
     "name": "stdout",
     "output_type": "stream",
     "text": [
      "Iteration:      6,   Func. Count:     78,   Neg. LLF: -76413.38824142626\n",
      "Positive directional derivative for linesearch    (Exit mode 8)\n",
      "            Current function value: -76413.3818877\n",
      "            Iterations: 15\n",
      "            Function evaluations: 151\n",
      "            Gradient evaluations: 11\n",
      "Iteration:      6,   Func. Count:     78,   Neg. LLF: -76413.38824142626\n"
     ]
    },
    {
     "name": "stderr",
     "output_type": "stream",
     "text": [
      "C:\\Program Files\\Anaconda3\\lib\\site-packages\\arch\\univariate\\base.py:510: ConvergenceWarning: \n",
      "The optimizer returned code 8. The message is:\n",
      "Positive directional derivative for linesearch\n",
      "See scipy.optimize.fmin_slsqp for code meaning.\n",
      "\n",
      "  ConvergenceWarning)\n",
      "C:\\Program Files\\Anaconda3\\lib\\site-packages\\arch\\univariate\\base.py:510: ConvergenceWarning: \n",
      "The optimizer returned code 8. The message is:\n",
      "Positive directional derivative for linesearch\n",
      "See scipy.optimize.fmin_slsqp for code meaning.\n",
      "\n",
      "  ConvergenceWarning)\n"
     ]
    },
    {
     "name": "stdout",
     "output_type": "stream",
     "text": [
      "Positive directional derivative for linesearch    (Exit mode 8)\n",
      "            Current function value: -76413.3818877\n",
      "            Iterations: 15\n",
      "            Function evaluations: 151\n",
      "            Gradient evaluations: 11\n",
      "Iteration:      6,   Func. Count:     78,   Neg. LLF: -76413.38824142626\n",
      "Positive directional derivative for linesearch    (Exit mode 8)\n",
      "            Current function value: -76413.3818877\n",
      "            Iterations: 15\n",
      "            Function evaluations: 151\n",
      "            Gradient evaluations: 11\n",
      "Iteration:      6,   Func. Count:     78,   Neg. LLF: -76413.38824142626\n",
      "Positive directional derivative for linesearch    (Exit mode 8)\n",
      "            Current function value: -76413.3818877\n",
      "            Iterations: 15\n",
      "            Function evaluations: 151\n",
      "            Gradient evaluations: 11\n"
     ]
    },
    {
     "name": "stderr",
     "output_type": "stream",
     "text": [
      "C:\\Program Files\\Anaconda3\\lib\\site-packages\\arch\\univariate\\base.py:510: ConvergenceWarning: \n",
      "The optimizer returned code 8. The message is:\n",
      "Positive directional derivative for linesearch\n",
      "See scipy.optimize.fmin_slsqp for code meaning.\n",
      "\n",
      "  ConvergenceWarning)\n",
      "C:\\Program Files\\Anaconda3\\lib\\site-packages\\arch\\univariate\\base.py:510: ConvergenceWarning: \n",
      "The optimizer returned code 8. The message is:\n",
      "Positive directional derivative for linesearch\n",
      "See scipy.optimize.fmin_slsqp for code meaning.\n",
      "\n",
      "  ConvergenceWarning)\n"
     ]
    },
    {
     "name": "stdout",
     "output_type": "stream",
     "text": [
      "Iteration:      6,   Func. Count:     78,   Neg. LLF: -76413.38824142626\n",
      "Positive directional derivative for linesearch    (Exit mode 8)\n",
      "            Current function value: -76413.3818877\n",
      "            Iterations: 15\n",
      "            Function evaluations: 151\n",
      "            Gradient evaluations: 11\n"
     ]
    },
    {
     "name": "stderr",
     "output_type": "stream",
     "text": [
      "C:\\Program Files\\Anaconda3\\lib\\site-packages\\arch\\univariate\\base.py:510: ConvergenceWarning: \n",
      "The optimizer returned code 8. The message is:\n",
      "Positive directional derivative for linesearch\n",
      "See scipy.optimize.fmin_slsqp for code meaning.\n",
      "\n",
      "  ConvergenceWarning)\n"
     ]
    },
    {
     "name": "stdout",
     "output_type": "stream",
     "text": [
      "Iteration:      6,   Func. Count:     78,   Neg. LLF: -76413.38824142626\n",
      "Positive directional derivative for linesearch    (Exit mode 8)\n",
      "            Current function value: -76413.3818877\n",
      "            Iterations: 15\n",
      "            Function evaluations: 151\n",
      "            Gradient evaluations: 11\n"
     ]
    },
    {
     "name": "stderr",
     "output_type": "stream",
     "text": [
      "C:\\Program Files\\Anaconda3\\lib\\site-packages\\arch\\univariate\\base.py:510: ConvergenceWarning: \n",
      "The optimizer returned code 8. The message is:\n",
      "Positive directional derivative for linesearch\n",
      "See scipy.optimize.fmin_slsqp for code meaning.\n",
      "\n",
      "  ConvergenceWarning)\n"
     ]
    },
    {
     "name": "stdout",
     "output_type": "stream",
     "text": [
      "Iteration:      6,   Func. Count:     78,   Neg. LLF: -76413.38824142626\n",
      "Positive directional derivative for linesearch    (Exit mode 8)\n",
      "            Current function value: -76413.3818877\n",
      "            Iterations: 15\n",
      "            Function evaluations: 151\n",
      "            Gradient evaluations: 11\n"
     ]
    },
    {
     "name": "stderr",
     "output_type": "stream",
     "text": [
      "C:\\Program Files\\Anaconda3\\lib\\site-packages\\arch\\univariate\\base.py:510: ConvergenceWarning: \n",
      "The optimizer returned code 8. The message is:\n",
      "Positive directional derivative for linesearch\n",
      "See scipy.optimize.fmin_slsqp for code meaning.\n",
      "\n",
      "  ConvergenceWarning)\n"
     ]
    },
    {
     "name": "stdout",
     "output_type": "stream",
     "text": [
      "Iteration:      6,   Func. Count:     78,   Neg. LLF: -76413.38824142626\n",
      "Positive directional derivative for linesearch    (Exit mode 8)\n",
      "            Current function value: -76413.3818877\n",
      "            Iterations: 15\n",
      "            Function evaluations: 151\n",
      "            Gradient evaluations: 11\n"
     ]
    },
    {
     "name": "stderr",
     "output_type": "stream",
     "text": [
      "C:\\Program Files\\Anaconda3\\lib\\site-packages\\arch\\univariate\\base.py:510: ConvergenceWarning: \n",
      "The optimizer returned code 8. The message is:\n",
      "Positive directional derivative for linesearch\n",
      "See scipy.optimize.fmin_slsqp for code meaning.\n",
      "\n",
      "  ConvergenceWarning)\n"
     ]
    },
    {
     "name": "stdout",
     "output_type": "stream",
     "text": [
      "Iteration:      6,   Func. Count:     78,   Neg. LLF: -76413.38824142626\n",
      "Positive directional derivative for linesearch    (Exit mode 8)\n",
      "            Current function value: -76413.3818877\n",
      "            Iterations: 15\n",
      "            Function evaluations: 151\n",
      "            Gradient evaluations: 11\n"
     ]
    },
    {
     "name": "stderr",
     "output_type": "stream",
     "text": [
      "C:\\Program Files\\Anaconda3\\lib\\site-packages\\arch\\univariate\\base.py:510: ConvergenceWarning: \n",
      "The optimizer returned code 8. The message is:\n",
      "Positive directional derivative for linesearch\n",
      "See scipy.optimize.fmin_slsqp for code meaning.\n",
      "\n",
      "  ConvergenceWarning)\n"
     ]
    },
    {
     "name": "stdout",
     "output_type": "stream",
     "text": [
      "Iteration:      6,   Func. Count:     78,   Neg. LLF: -76413.38824142626\n",
      "Positive directional derivative for linesearch    (Exit mode 8)\n",
      "            Current function value: -76413.3818877\n",
      "            Iterations: 15\n",
      "            Function evaluations: 151\n",
      "            Gradient evaluations: 11\n"
     ]
    },
    {
     "name": "stderr",
     "output_type": "stream",
     "text": [
      "C:\\Program Files\\Anaconda3\\lib\\site-packages\\arch\\univariate\\base.py:510: ConvergenceWarning: \n",
      "The optimizer returned code 8. The message is:\n",
      "Positive directional derivative for linesearch\n",
      "See scipy.optimize.fmin_slsqp for code meaning.\n",
      "\n",
      "  ConvergenceWarning)\n",
      "C:\\Program Files\\Anaconda3\\lib\\site-packages\\arch\\univariate\\base.py:510: ConvergenceWarning: \n",
      "The optimizer returned code 8. The message is:\n",
      "Positive directional derivative for linesearch\n",
      "See scipy.optimize.fmin_slsqp for code meaning.\n",
      "\n",
      "  ConvergenceWarning)\n"
     ]
    },
    {
     "name": "stdout",
     "output_type": "stream",
     "text": [
      "Iteration:      6,   Func. Count:     78,   Neg. LLF: -76413.38824142626\n",
      "Positive directional derivative for linesearch    (Exit mode 8)\n",
      "            Current function value: -76413.3818877\n",
      "            Iterations: 15\n",
      "            Function evaluations: 151\n",
      "            Gradient evaluations: 11\n",
      "Iteration:      6,   Func. Count:     78,   Neg. LLF: -76413.38824142626\n",
      "Positive directional derivative for linesearch    (Exit mode 8)\n",
      "            Current function value: -76413.3818877\n",
      "            Iterations: 15\n",
      "            Function evaluations: 151\n",
      "            Gradient evaluations: 11\n"
     ]
    },
    {
     "name": "stderr",
     "output_type": "stream",
     "text": [
      "C:\\Program Files\\Anaconda3\\lib\\site-packages\\arch\\univariate\\base.py:510: ConvergenceWarning: \n",
      "The optimizer returned code 8. The message is:\n",
      "Positive directional derivative for linesearch\n",
      "See scipy.optimize.fmin_slsqp for code meaning.\n",
      "\n",
      "  ConvergenceWarning)\n"
     ]
    },
    {
     "name": "stdout",
     "output_type": "stream",
     "text": [
      "Iteration:      6,   Func. Count:     78,   Neg. LLF: -76413.38824142626\n",
      "Positive directional derivative for linesearch    (Exit mode 8)\n",
      "            Current function value: -76413.3818877\n",
      "            Iterations: 15\n",
      "            Function evaluations: 151\n",
      "            Gradient evaluations: 11\n"
     ]
    },
    {
     "name": "stderr",
     "output_type": "stream",
     "text": [
      "C:\\Program Files\\Anaconda3\\lib\\site-packages\\arch\\univariate\\base.py:510: ConvergenceWarning: \n",
      "The optimizer returned code 8. The message is:\n",
      "Positive directional derivative for linesearch\n",
      "See scipy.optimize.fmin_slsqp for code meaning.\n",
      "\n",
      "  ConvergenceWarning)\n"
     ]
    },
    {
     "name": "stdout",
     "output_type": "stream",
     "text": [
      "Iteration:      6,   Func. Count:     78,   Neg. LLF: -76413.38824142626\n",
      "Positive directional derivative for linesearch    (Exit mode 8)\n",
      "            Current function value: -76413.3818877\n",
      "            Iterations: 15\n",
      "            Function evaluations: 151\n",
      "            Gradient evaluations: 11\n",
      "Iteration:      6,   Func. Count:     78,   Neg. LLF: -76413.38824142626\n"
     ]
    },
    {
     "name": "stderr",
     "output_type": "stream",
     "text": [
      "C:\\Program Files\\Anaconda3\\lib\\site-packages\\arch\\univariate\\base.py:510: ConvergenceWarning: \n",
      "The optimizer returned code 8. The message is:\n",
      "Positive directional derivative for linesearch\n",
      "See scipy.optimize.fmin_slsqp for code meaning.\n",
      "\n",
      "  ConvergenceWarning)\n",
      "C:\\Program Files\\Anaconda3\\lib\\site-packages\\arch\\univariate\\base.py:510: ConvergenceWarning: \n",
      "The optimizer returned code 8. The message is:\n",
      "Positive directional derivative for linesearch\n",
      "See scipy.optimize.fmin_slsqp for code meaning.\n",
      "\n",
      "  ConvergenceWarning)\n"
     ]
    },
    {
     "name": "stdout",
     "output_type": "stream",
     "text": [
      "Positive directional derivative for linesearch    (Exit mode 8)\n",
      "            Current function value: -76413.3818877\n",
      "            Iterations: 15\n",
      "            Function evaluations: 151\n",
      "            Gradient evaluations: 11\n",
      "Iteration:      6,   Func. Count:     78,   Neg. LLF: -76413.38824142626\n",
      "Positive directional derivative for linesearch    (Exit mode 8)\n",
      "            Current function value: -76413.3818877\n",
      "            Iterations: 15\n",
      "            Function evaluations: 151\n",
      "            Gradient evaluations: 11\n",
      "Iteration:      6,   Func. Count:     78,   Neg. LLF: -76413.38824142626\n"
     ]
    },
    {
     "name": "stderr",
     "output_type": "stream",
     "text": [
      "C:\\Program Files\\Anaconda3\\lib\\site-packages\\arch\\univariate\\base.py:510: ConvergenceWarning: \n",
      "The optimizer returned code 8. The message is:\n",
      "Positive directional derivative for linesearch\n",
      "See scipy.optimize.fmin_slsqp for code meaning.\n",
      "\n",
      "  ConvergenceWarning)\n"
     ]
    },
    {
     "name": "stdout",
     "output_type": "stream",
     "text": [
      "Positive directional derivative for linesearch    (Exit mode 8)\n",
      "            Current function value: -76413.3818877\n",
      "            Iterations: 15\n",
      "            Function evaluations: 151\n",
      "            Gradient evaluations: 11\n",
      "Iteration:      6,   Func. Count:     78,   Neg. LLF: -76413.38824142626\n"
     ]
    },
    {
     "name": "stderr",
     "output_type": "stream",
     "text": [
      "C:\\Program Files\\Anaconda3\\lib\\site-packages\\arch\\univariate\\base.py:510: ConvergenceWarning: \n",
      "The optimizer returned code 8. The message is:\n",
      "Positive directional derivative for linesearch\n",
      "See scipy.optimize.fmin_slsqp for code meaning.\n",
      "\n",
      "  ConvergenceWarning)\n"
     ]
    },
    {
     "name": "stdout",
     "output_type": "stream",
     "text": [
      "Positive directional derivative for linesearch    (Exit mode 8)\n",
      "            Current function value: -76413.3818877\n",
      "            Iterations: 15\n",
      "            Function evaluations: 151\n",
      "            Gradient evaluations: 11\n",
      "Iteration:      6,   Func. Count:     78,   Neg. LLF: -76413.38824142626\n"
     ]
    },
    {
     "name": "stderr",
     "output_type": "stream",
     "text": [
      "C:\\Program Files\\Anaconda3\\lib\\site-packages\\arch\\univariate\\base.py:510: ConvergenceWarning: \n",
      "The optimizer returned code 8. The message is:\n",
      "Positive directional derivative for linesearch\n",
      "See scipy.optimize.fmin_slsqp for code meaning.\n",
      "\n",
      "  ConvergenceWarning)\n"
     ]
    },
    {
     "name": "stdout",
     "output_type": "stream",
     "text": [
      "Positive directional derivative for linesearch    (Exit mode 8)\n",
      "            Current function value: -76413.3818877\n",
      "            Iterations: 15\n",
      "            Function evaluations: 151\n",
      "            Gradient evaluations: 11\n",
      "Iteration:      6,   Func. Count:     78,   Neg. LLF: -76413.38824142626\n"
     ]
    },
    {
     "name": "stderr",
     "output_type": "stream",
     "text": [
      "C:\\Program Files\\Anaconda3\\lib\\site-packages\\arch\\univariate\\base.py:510: ConvergenceWarning: \n",
      "The optimizer returned code 8. The message is:\n",
      "Positive directional derivative for linesearch\n",
      "See scipy.optimize.fmin_slsqp for code meaning.\n",
      "\n",
      "  ConvergenceWarning)\n"
     ]
    },
    {
     "name": "stdout",
     "output_type": "stream",
     "text": [
      "Positive directional derivative for linesearch    (Exit mode 8)\n",
      "            Current function value: -76413.3818877\n",
      "            Iterations: 15\n",
      "            Function evaluations: 151\n",
      "            Gradient evaluations: 11\n",
      "Iteration:      6,   Func. Count:     78,   Neg. LLF: -76413.38824142626\n"
     ]
    },
    {
     "name": "stderr",
     "output_type": "stream",
     "text": [
      "C:\\Program Files\\Anaconda3\\lib\\site-packages\\arch\\univariate\\base.py:510: ConvergenceWarning: \n",
      "The optimizer returned code 8. The message is:\n",
      "Positive directional derivative for linesearch\n",
      "See scipy.optimize.fmin_slsqp for code meaning.\n",
      "\n",
      "  ConvergenceWarning)\n"
     ]
    },
    {
     "name": "stdout",
     "output_type": "stream",
     "text": [
      "Positive directional derivative for linesearch    (Exit mode 8)\n",
      "            Current function value: -76413.3818877\n",
      "            Iterations: 15\n",
      "            Function evaluations: 151\n",
      "            Gradient evaluations: 11\n",
      "Iteration:      6,   Func. Count:     78,   Neg. LLF: -76413.38824142626\n"
     ]
    },
    {
     "name": "stderr",
     "output_type": "stream",
     "text": [
      "C:\\Program Files\\Anaconda3\\lib\\site-packages\\arch\\univariate\\base.py:510: ConvergenceWarning: \n",
      "The optimizer returned code 8. The message is:\n",
      "Positive directional derivative for linesearch\n",
      "See scipy.optimize.fmin_slsqp for code meaning.\n",
      "\n",
      "  ConvergenceWarning)\n"
     ]
    },
    {
     "name": "stdout",
     "output_type": "stream",
     "text": [
      "Positive directional derivative for linesearch    (Exit mode 8)\n",
      "            Current function value: -76413.3818877\n",
      "            Iterations: 15\n",
      "            Function evaluations: 151\n",
      "            Gradient evaluations: 11\n",
      "Iteration:      6,   Func. Count:     78,   Neg. LLF: -76413.38824142626\n",
      "Positive directional derivative for linesearch    (Exit mode 8)\n",
      "            Current function value: -76413.3818877\n",
      "            Iterations: 15\n",
      "            Function evaluations: 151\n",
      "            Gradient evaluations: 11\n"
     ]
    },
    {
     "name": "stderr",
     "output_type": "stream",
     "text": [
      "C:\\Program Files\\Anaconda3\\lib\\site-packages\\arch\\univariate\\base.py:510: ConvergenceWarning: \n",
      "The optimizer returned code 8. The message is:\n",
      "Positive directional derivative for linesearch\n",
      "See scipy.optimize.fmin_slsqp for code meaning.\n",
      "\n",
      "  ConvergenceWarning)\n",
      "C:\\Program Files\\Anaconda3\\lib\\site-packages\\arch\\univariate\\base.py:510: ConvergenceWarning: \n",
      "The optimizer returned code 8. The message is:\n",
      "Positive directional derivative for linesearch\n",
      "See scipy.optimize.fmin_slsqp for code meaning.\n",
      "\n",
      "  ConvergenceWarning)\n"
     ]
    },
    {
     "name": "stdout",
     "output_type": "stream",
     "text": [
      "Iteration:      6,   Func. Count:     78,   Neg. LLF: -76413.38824142626\n",
      "Positive directional derivative for linesearch    (Exit mode 8)\n",
      "            Current function value: -76413.3818877\n",
      "            Iterations: 15\n",
      "            Function evaluations: 151\n",
      "            Gradient evaluations: 11\n"
     ]
    },
    {
     "name": "stderr",
     "output_type": "stream",
     "text": [
      "C:\\Program Files\\Anaconda3\\lib\\site-packages\\arch\\univariate\\base.py:510: ConvergenceWarning: \n",
      "The optimizer returned code 8. The message is:\n",
      "Positive directional derivative for linesearch\n",
      "See scipy.optimize.fmin_slsqp for code meaning.\n",
      "\n",
      "  ConvergenceWarning)\n"
     ]
    },
    {
     "name": "stdout",
     "output_type": "stream",
     "text": [
      "Iteration:      6,   Func. Count:     78,   Neg. LLF: -76413.38824142626\n",
      "Positive directional derivative for linesearch    (Exit mode 8)\n",
      "            Current function value: -76413.3818877\n",
      "            Iterations: 15\n",
      "            Function evaluations: 151\n",
      "            Gradient evaluations: 11\n"
     ]
    },
    {
     "name": "stderr",
     "output_type": "stream",
     "text": [
      "C:\\Program Files\\Anaconda3\\lib\\site-packages\\arch\\univariate\\base.py:510: ConvergenceWarning: \n",
      "The optimizer returned code 8. The message is:\n",
      "Positive directional derivative for linesearch\n",
      "See scipy.optimize.fmin_slsqp for code meaning.\n",
      "\n",
      "  ConvergenceWarning)\n",
      "C:\\Program Files\\Anaconda3\\lib\\site-packages\\arch\\univariate\\base.py:510: ConvergenceWarning: \n",
      "The optimizer returned code 8. The message is:\n",
      "Positive directional derivative for linesearch\n",
      "See scipy.optimize.fmin_slsqp for code meaning.\n",
      "\n",
      "  ConvergenceWarning)\n"
     ]
    },
    {
     "name": "stdout",
     "output_type": "stream",
     "text": [
      "Iteration:      6,   Func. Count:     78,   Neg. LLF: -76413.38824142626\n",
      "Positive directional derivative for linesearch    (Exit mode 8)\n",
      "            Current function value: -76413.3818877\n",
      "            Iterations: 15\n",
      "            Function evaluations: 151\n",
      "            Gradient evaluations: 11\n",
      "Iteration:      6,   Func. Count:     78,   Neg. LLF: -76413.38824142626\n",
      "Positive directional derivative for linesearch    (Exit mode 8)\n",
      "            Current function value: -76413.3818877\n",
      "            Iterations: 15\n",
      "            Function evaluations: 151\n",
      "            Gradient evaluations: 11\n",
      "Iteration:      6,   Func. Count:     78,   Neg. LLF: -76413.38824142626\n",
      "Positive directional derivative for linesearch    (Exit mode 8)\n",
      "            Current function value: -76413.3818877\n",
      "            Iterations: 15\n",
      "            Function evaluations: 151\n",
      "            Gradient evaluations: 11\n"
     ]
    },
    {
     "name": "stderr",
     "output_type": "stream",
     "text": [
      "C:\\Program Files\\Anaconda3\\lib\\site-packages\\arch\\univariate\\base.py:510: ConvergenceWarning: \n",
      "The optimizer returned code 8. The message is:\n",
      "Positive directional derivative for linesearch\n",
      "See scipy.optimize.fmin_slsqp for code meaning.\n",
      "\n",
      "  ConvergenceWarning)\n",
      "C:\\Program Files\\Anaconda3\\lib\\site-packages\\arch\\univariate\\base.py:510: ConvergenceWarning: \n",
      "The optimizer returned code 8. The message is:\n",
      "Positive directional derivative for linesearch\n",
      "See scipy.optimize.fmin_slsqp for code meaning.\n",
      "\n",
      "  ConvergenceWarning)\n"
     ]
    },
    {
     "name": "stdout",
     "output_type": "stream",
     "text": [
      "Iteration:      6,   Func. Count:     78,   Neg. LLF: -76413.38824142626\n",
      "Positive directional derivative for linesearch    (Exit mode 8)\n",
      "            Current function value: -76413.3818877\n",
      "            Iterations: 15\n",
      "            Function evaluations: 151\n",
      "            Gradient evaluations: 11\n",
      "Iteration:      6,   Func. Count:     78,   Neg. LLF: -76413.38824142626\n"
     ]
    },
    {
     "name": "stderr",
     "output_type": "stream",
     "text": [
      "C:\\Program Files\\Anaconda3\\lib\\site-packages\\arch\\univariate\\base.py:510: ConvergenceWarning: \n",
      "The optimizer returned code 8. The message is:\n",
      "Positive directional derivative for linesearch\n",
      "See scipy.optimize.fmin_slsqp for code meaning.\n",
      "\n",
      "  ConvergenceWarning)\n",
      "C:\\Program Files\\Anaconda3\\lib\\site-packages\\arch\\univariate\\base.py:510: ConvergenceWarning: \n",
      "The optimizer returned code 8. The message is:\n",
      "Positive directional derivative for linesearch\n",
      "See scipy.optimize.fmin_slsqp for code meaning.\n",
      "\n",
      "  ConvergenceWarning)\n"
     ]
    },
    {
     "name": "stdout",
     "output_type": "stream",
     "text": [
      "Positive directional derivative for linesearch    (Exit mode 8)\n",
      "            Current function value: -76413.3818877\n",
      "            Iterations: 15\n",
      "            Function evaluations: 151\n",
      "            Gradient evaluations: 11\n",
      "Iteration:      6,   Func. Count:     78,   Neg. LLF: -76413.38824142626\n",
      "Positive directional derivative for linesearch    (Exit mode 8)\n",
      "            Current function value: -76413.3818877\n",
      "            Iterations: 15\n",
      "            Function evaluations: 151\n",
      "            Gradient evaluations: 11\n"
     ]
    },
    {
     "name": "stderr",
     "output_type": "stream",
     "text": [
      "C:\\Program Files\\Anaconda3\\lib\\site-packages\\arch\\univariate\\base.py:510: ConvergenceWarning: \n",
      "The optimizer returned code 8. The message is:\n",
      "Positive directional derivative for linesearch\n",
      "See scipy.optimize.fmin_slsqp for code meaning.\n",
      "\n",
      "  ConvergenceWarning)\n"
     ]
    },
    {
     "name": "stdout",
     "output_type": "stream",
     "text": [
      "Iteration:      6,   Func. Count:     78,   Neg. LLF: -76413.38824142626\n",
      "Positive directional derivative for linesearch    (Exit mode 8)\n",
      "            Current function value: -76413.3818877\n",
      "            Iterations: 15\n",
      "            Function evaluations: 151\n",
      "            Gradient evaluations: 11\n"
     ]
    },
    {
     "name": "stderr",
     "output_type": "stream",
     "text": [
      "C:\\Program Files\\Anaconda3\\lib\\site-packages\\arch\\univariate\\base.py:510: ConvergenceWarning: \n",
      "The optimizer returned code 8. The message is:\n",
      "Positive directional derivative for linesearch\n",
      "See scipy.optimize.fmin_slsqp for code meaning.\n",
      "\n",
      "  ConvergenceWarning)\n"
     ]
    },
    {
     "name": "stdout",
     "output_type": "stream",
     "text": [
      "Iteration:      6,   Func. Count:     78,   Neg. LLF: -76413.38824142626\n",
      "Positive directional derivative for linesearch    (Exit mode 8)\n",
      "            Current function value: -76413.3818877\n",
      "            Iterations: 15\n",
      "            Function evaluations: 151\n",
      "            Gradient evaluations: 11\n"
     ]
    },
    {
     "name": "stderr",
     "output_type": "stream",
     "text": [
      "C:\\Program Files\\Anaconda3\\lib\\site-packages\\arch\\univariate\\base.py:510: ConvergenceWarning: \n",
      "The optimizer returned code 8. The message is:\n",
      "Positive directional derivative for linesearch\n",
      "See scipy.optimize.fmin_slsqp for code meaning.\n",
      "\n",
      "  ConvergenceWarning)\n"
     ]
    },
    {
     "name": "stdout",
     "output_type": "stream",
     "text": [
      "Iteration:      6,   Func. Count:     78,   Neg. LLF: -76413.38824142626\n",
      "Positive directional derivative for linesearch    (Exit mode 8)\n",
      "            Current function value: -76413.3818877\n",
      "            Iterations: 15\n",
      "            Function evaluations: 151\n",
      "            Gradient evaluations: 11\n",
      "Iteration:      6,   Func. Count:     78,   Neg. LLF: -76413.38824142626\n"
     ]
    },
    {
     "name": "stderr",
     "output_type": "stream",
     "text": [
      "C:\\Program Files\\Anaconda3\\lib\\site-packages\\arch\\univariate\\base.py:510: ConvergenceWarning: \n",
      "The optimizer returned code 8. The message is:\n",
      "Positive directional derivative for linesearch\n",
      "See scipy.optimize.fmin_slsqp for code meaning.\n",
      "\n",
      "  ConvergenceWarning)\n"
     ]
    },
    {
     "name": "stdout",
     "output_type": "stream",
     "text": [
      "Positive directional derivative for linesearch    (Exit mode 8)\n",
      "            Current function value: -76413.3818877\n",
      "            Iterations: 15\n",
      "            Function evaluations: 151\n",
      "            Gradient evaluations: 11\n",
      "Iteration:      6,   Func. Count:     78,   Neg. LLF: -76413.38824142626\n",
      "Positive directional derivative for linesearch    (Exit mode 8)\n",
      "            Current function value: -76413.3818877\n",
      "            Iterations: 15\n",
      "            Function evaluations: 151\n",
      "            Gradient evaluations: 11\n"
     ]
    },
    {
     "name": "stderr",
     "output_type": "stream",
     "text": [
      "C:\\Program Files\\Anaconda3\\lib\\site-packages\\arch\\univariate\\base.py:510: ConvergenceWarning: \n",
      "The optimizer returned code 8. The message is:\n",
      "Positive directional derivative for linesearch\n",
      "See scipy.optimize.fmin_slsqp for code meaning.\n",
      "\n",
      "  ConvergenceWarning)\n",
      "C:\\Program Files\\Anaconda3\\lib\\site-packages\\arch\\univariate\\base.py:510: ConvergenceWarning: \n",
      "The optimizer returned code 8. The message is:\n",
      "Positive directional derivative for linesearch\n",
      "See scipy.optimize.fmin_slsqp for code meaning.\n",
      "\n",
      "  ConvergenceWarning)\n"
     ]
    },
    {
     "name": "stdout",
     "output_type": "stream",
     "text": [
      "Iteration:      6,   Func. Count:     78,   Neg. LLF: -76413.38824142626\n",
      "Positive directional derivative for linesearch    (Exit mode 8)\n",
      "            Current function value: -76413.3818877\n",
      "            Iterations: 15\n",
      "            Function evaluations: 151\n",
      "            Gradient evaluations: 11\n",
      "Iteration:      6,   Func. Count:     78,   Neg. LLF: -76413.38824142626\n"
     ]
    },
    {
     "name": "stderr",
     "output_type": "stream",
     "text": [
      "C:\\Program Files\\Anaconda3\\lib\\site-packages\\arch\\univariate\\base.py:510: ConvergenceWarning: \n",
      "The optimizer returned code 8. The message is:\n",
      "Positive directional derivative for linesearch\n",
      "See scipy.optimize.fmin_slsqp for code meaning.\n",
      "\n",
      "  ConvergenceWarning)\n"
     ]
    },
    {
     "name": "stdout",
     "output_type": "stream",
     "text": [
      "Positive directional derivative for linesearch    (Exit mode 8)\n",
      "            Current function value: -76413.3818877\n",
      "            Iterations: 15\n",
      "            Function evaluations: 151\n",
      "            Gradient evaluations: 11\n",
      "Iteration:      6,   Func. Count:     78,   Neg. LLF: -76413.38824142626\n"
     ]
    },
    {
     "name": "stderr",
     "output_type": "stream",
     "text": [
      "C:\\Program Files\\Anaconda3\\lib\\site-packages\\arch\\univariate\\base.py:510: ConvergenceWarning: \n",
      "The optimizer returned code 8. The message is:\n",
      "Positive directional derivative for linesearch\n",
      "See scipy.optimize.fmin_slsqp for code meaning.\n",
      "\n",
      "  ConvergenceWarning)\n"
     ]
    },
    {
     "name": "stdout",
     "output_type": "stream",
     "text": [
      "Positive directional derivative for linesearch    (Exit mode 8)\n",
      "            Current function value: -76413.3818877\n",
      "            Iterations: 15\n",
      "            Function evaluations: 151\n",
      "            Gradient evaluations: 11\n",
      "Iteration:      6,   Func. Count:     78,   Neg. LLF: -76413.38824142626\n"
     ]
    },
    {
     "name": "stderr",
     "output_type": "stream",
     "text": [
      "C:\\Program Files\\Anaconda3\\lib\\site-packages\\arch\\univariate\\base.py:510: ConvergenceWarning: \n",
      "The optimizer returned code 8. The message is:\n",
      "Positive directional derivative for linesearch\n",
      "See scipy.optimize.fmin_slsqp for code meaning.\n",
      "\n",
      "  ConvergenceWarning)\n"
     ]
    },
    {
     "name": "stdout",
     "output_type": "stream",
     "text": [
      "Positive directional derivative for linesearch    (Exit mode 8)\n",
      "            Current function value: -76413.3818877\n",
      "            Iterations: 15\n",
      "            Function evaluations: 151\n",
      "            Gradient evaluations: 11\n",
      "Iteration:      6,   Func. Count:     78,   Neg. LLF: -76413.38824142626\n"
     ]
    },
    {
     "name": "stderr",
     "output_type": "stream",
     "text": [
      "C:\\Program Files\\Anaconda3\\lib\\site-packages\\arch\\univariate\\base.py:510: ConvergenceWarning: \n",
      "The optimizer returned code 8. The message is:\n",
      "Positive directional derivative for linesearch\n",
      "See scipy.optimize.fmin_slsqp for code meaning.\n",
      "\n",
      "  ConvergenceWarning)\n"
     ]
    },
    {
     "name": "stdout",
     "output_type": "stream",
     "text": [
      "Positive directional derivative for linesearch    (Exit mode 8)\n",
      "            Current function value: -76413.3818877\n",
      "            Iterations: 15\n",
      "            Function evaluations: 151\n",
      "            Gradient evaluations: 11\n",
      "Iteration:      6,   Func. Count:     78,   Neg. LLF: -76413.38824142626\n",
      "Positive directional derivative for linesearch    (Exit mode 8)\n",
      "            Current function value: -76413.3818877\n",
      "            Iterations: 15\n",
      "            Function evaluations: 151\n",
      "            Gradient evaluations: 11\n"
     ]
    },
    {
     "name": "stderr",
     "output_type": "stream",
     "text": [
      "C:\\Program Files\\Anaconda3\\lib\\site-packages\\arch\\univariate\\base.py:510: ConvergenceWarning: \n",
      "The optimizer returned code 8. The message is:\n",
      "Positive directional derivative for linesearch\n",
      "See scipy.optimize.fmin_slsqp for code meaning.\n",
      "\n",
      "  ConvergenceWarning)\n",
      "C:\\Program Files\\Anaconda3\\lib\\site-packages\\arch\\univariate\\base.py:510: ConvergenceWarning: \n",
      "The optimizer returned code 8. The message is:\n",
      "Positive directional derivative for linesearch\n",
      "See scipy.optimize.fmin_slsqp for code meaning.\n",
      "\n",
      "  ConvergenceWarning)\n"
     ]
    },
    {
     "name": "stdout",
     "output_type": "stream",
     "text": [
      "Iteration:      6,   Func. Count:     78,   Neg. LLF: -76413.38824142626\n",
      "Positive directional derivative for linesearch    (Exit mode 8)\n",
      "            Current function value: -76413.3818877\n",
      "            Iterations: 15\n",
      "            Function evaluations: 151\n",
      "            Gradient evaluations: 11\n"
     ]
    },
    {
     "name": "stderr",
     "output_type": "stream",
     "text": [
      "C:\\Program Files\\Anaconda3\\lib\\site-packages\\arch\\univariate\\base.py:510: ConvergenceWarning: \n",
      "The optimizer returned code 8. The message is:\n",
      "Positive directional derivative for linesearch\n",
      "See scipy.optimize.fmin_slsqp for code meaning.\n",
      "\n",
      "  ConvergenceWarning)\n",
      "C:\\Program Files\\Anaconda3\\lib\\site-packages\\arch\\univariate\\base.py:510: ConvergenceWarning: \n",
      "The optimizer returned code 8. The message is:\n",
      "Positive directional derivative for linesearch\n",
      "See scipy.optimize.fmin_slsqp for code meaning.\n",
      "\n",
      "  ConvergenceWarning)\n"
     ]
    },
    {
     "name": "stdout",
     "output_type": "stream",
     "text": [
      "Iteration:      6,   Func. Count:     78,   Neg. LLF: -76413.38824142626\n",
      "Positive directional derivative for linesearch    (Exit mode 8)\n",
      "            Current function value: -76413.3818877\n",
      "            Iterations: 15\n",
      "            Function evaluations: 151\n",
      "            Gradient evaluations: 11\n",
      "Iteration:      6,   Func. Count:     78,   Neg. LLF: -76413.38824142626\n",
      "Positive directional derivative for linesearch    (Exit mode 8)\n",
      "            Current function value: -76413.3818877\n",
      "            Iterations: 15\n",
      "            Function evaluations: 151\n",
      "            Gradient evaluations: 11\n",
      "Iteration:      6,   Func. Count:     78,   Neg. LLF: -76413.38824142626\n"
     ]
    },
    {
     "name": "stderr",
     "output_type": "stream",
     "text": [
      "C:\\Program Files\\Anaconda3\\lib\\site-packages\\arch\\univariate\\base.py:510: ConvergenceWarning: \n",
      "The optimizer returned code 8. The message is:\n",
      "Positive directional derivative for linesearch\n",
      "See scipy.optimize.fmin_slsqp for code meaning.\n",
      "\n",
      "  ConvergenceWarning)\n"
     ]
    },
    {
     "name": "stdout",
     "output_type": "stream",
     "text": [
      "Positive directional derivative for linesearch    (Exit mode 8)\n",
      "            Current function value: -76413.3818877\n",
      "            Iterations: 15\n",
      "            Function evaluations: 151\n",
      "            Gradient evaluations: 11\n",
      "Iteration:      6,   Func. Count:     78,   Neg. LLF: -76413.38824142626\n",
      "Positive directional derivative for linesearch    (Exit mode 8)\n",
      "            Current function value: -76413.3818877\n",
      "            Iterations: 15\n",
      "            Function evaluations: 151\n",
      "            Gradient evaluations: 11\n"
     ]
    },
    {
     "name": "stderr",
     "output_type": "stream",
     "text": [
      "C:\\Program Files\\Anaconda3\\lib\\site-packages\\arch\\univariate\\base.py:510: ConvergenceWarning: \n",
      "The optimizer returned code 8. The message is:\n",
      "Positive directional derivative for linesearch\n",
      "See scipy.optimize.fmin_slsqp for code meaning.\n",
      "\n",
      "  ConvergenceWarning)\n",
      "C:\\Program Files\\Anaconda3\\lib\\site-packages\\arch\\univariate\\base.py:510: ConvergenceWarning: \n",
      "The optimizer returned code 8. The message is:\n",
      "Positive directional derivative for linesearch\n",
      "See scipy.optimize.fmin_slsqp for code meaning.\n",
      "\n",
      "  ConvergenceWarning)\n"
     ]
    },
    {
     "name": "stdout",
     "output_type": "stream",
     "text": [
      "Iteration:      6,   Func. Count:     78,   Neg. LLF: -76413.38824142626\n",
      "Positive directional derivative for linesearch    (Exit mode 8)\n",
      "            Current function value: -76413.3818877\n",
      "            Iterations: 15\n",
      "            Function evaluations: 151\n",
      "            Gradient evaluations: 11\n",
      "Iteration:      6,   Func. Count:     78,   Neg. LLF: -76413.38824142626\n"
     ]
    },
    {
     "name": "stderr",
     "output_type": "stream",
     "text": [
      "C:\\Program Files\\Anaconda3\\lib\\site-packages\\arch\\univariate\\base.py:510: ConvergenceWarning: \n",
      "The optimizer returned code 8. The message is:\n",
      "Positive directional derivative for linesearch\n",
      "See scipy.optimize.fmin_slsqp for code meaning.\n",
      "\n",
      "  ConvergenceWarning)\n",
      "C:\\Program Files\\Anaconda3\\lib\\site-packages\\arch\\univariate\\base.py:510: ConvergenceWarning: \n",
      "The optimizer returned code 8. The message is:\n",
      "Positive directional derivative for linesearch\n",
      "See scipy.optimize.fmin_slsqp for code meaning.\n",
      "\n",
      "  ConvergenceWarning)\n"
     ]
    },
    {
     "name": "stdout",
     "output_type": "stream",
     "text": [
      "Positive directional derivative for linesearch    (Exit mode 8)\n",
      "            Current function value: -76413.3818877\n",
      "            Iterations: 15\n",
      "            Function evaluations: 151\n",
      "            Gradient evaluations: 11\n",
      "Iteration:      6,   Func. Count:     78,   Neg. LLF: -76413.38824142626\n",
      "Positive directional derivative for linesearch    (Exit mode 8)\n",
      "            Current function value: -76413.3818877\n",
      "            Iterations: 15\n",
      "            Function evaluations: 151\n",
      "            Gradient evaluations: 11\n",
      "Iteration:      6,   Func. Count:     78,   Neg. LLF: -76413.38824142626\n",
      "Positive directional derivative for linesearch    (Exit mode 8)\n",
      "            Current function value: -76413.3818877\n",
      "            Iterations: 15\n",
      "            Function evaluations: 151\n",
      "            Gradient evaluations: 11\n"
     ]
    },
    {
     "name": "stderr",
     "output_type": "stream",
     "text": [
      "C:\\Program Files\\Anaconda3\\lib\\site-packages\\arch\\univariate\\base.py:510: ConvergenceWarning: \n",
      "The optimizer returned code 8. The message is:\n",
      "Positive directional derivative for linesearch\n",
      "See scipy.optimize.fmin_slsqp for code meaning.\n",
      "\n",
      "  ConvergenceWarning)\n",
      "C:\\Program Files\\Anaconda3\\lib\\site-packages\\arch\\univariate\\base.py:510: ConvergenceWarning: \n",
      "The optimizer returned code 8. The message is:\n",
      "Positive directional derivative for linesearch\n",
      "See scipy.optimize.fmin_slsqp for code meaning.\n",
      "\n",
      "  ConvergenceWarning)\n"
     ]
    },
    {
     "name": "stdout",
     "output_type": "stream",
     "text": [
      "Iteration:      6,   Func. Count:     78,   Neg. LLF: -76413.38824142626\n",
      "Positive directional derivative for linesearch    (Exit mode 8)\n",
      "            Current function value: -76413.3818877\n",
      "            Iterations: 15\n",
      "            Function evaluations: 151\n",
      "            Gradient evaluations: 11\n"
     ]
    },
    {
     "name": "stderr",
     "output_type": "stream",
     "text": [
      "C:\\Program Files\\Anaconda3\\lib\\site-packages\\arch\\univariate\\base.py:510: ConvergenceWarning: \n",
      "The optimizer returned code 8. The message is:\n",
      "Positive directional derivative for linesearch\n",
      "See scipy.optimize.fmin_slsqp for code meaning.\n",
      "\n",
      "  ConvergenceWarning)\n"
     ]
    },
    {
     "name": "stdout",
     "output_type": "stream",
     "text": [
      "Iteration:      6,   Func. Count:     78,   Neg. LLF: -76413.38824142626\n",
      "Positive directional derivative for linesearch    (Exit mode 8)\n",
      "            Current function value: -76413.3818877\n",
      "            Iterations: 15\n",
      "            Function evaluations: 151\n",
      "            Gradient evaluations: 11\n"
     ]
    },
    {
     "name": "stderr",
     "output_type": "stream",
     "text": [
      "C:\\Program Files\\Anaconda3\\lib\\site-packages\\arch\\univariate\\base.py:510: ConvergenceWarning: \n",
      "The optimizer returned code 8. The message is:\n",
      "Positive directional derivative for linesearch\n",
      "See scipy.optimize.fmin_slsqp for code meaning.\n",
      "\n",
      "  ConvergenceWarning)\n"
     ]
    },
    {
     "name": "stdout",
     "output_type": "stream",
     "text": [
      "Iteration:      6,   Func. Count:     78,   Neg. LLF: -76413.38824142626\n",
      "Positive directional derivative for linesearch    (Exit mode 8)\n",
      "            Current function value: -76413.3818877\n",
      "            Iterations: 15\n",
      "            Function evaluations: 151\n",
      "            Gradient evaluations: 11\n"
     ]
    },
    {
     "name": "stderr",
     "output_type": "stream",
     "text": [
      "C:\\Program Files\\Anaconda3\\lib\\site-packages\\arch\\univariate\\base.py:510: ConvergenceWarning: \n",
      "The optimizer returned code 8. The message is:\n",
      "Positive directional derivative for linesearch\n",
      "See scipy.optimize.fmin_slsqp for code meaning.\n",
      "\n",
      "  ConvergenceWarning)\n"
     ]
    },
    {
     "name": "stdout",
     "output_type": "stream",
     "text": [
      "Iteration:      6,   Func. Count:     78,   Neg. LLF: -76413.38824142626\n",
      "Positive directional derivative for linesearch    (Exit mode 8)\n",
      "            Current function value: -76413.3818877\n",
      "            Iterations: 15\n",
      "            Function evaluations: 151\n",
      "            Gradient evaluations: 11\n"
     ]
    },
    {
     "name": "stderr",
     "output_type": "stream",
     "text": [
      "C:\\Program Files\\Anaconda3\\lib\\site-packages\\arch\\univariate\\base.py:510: ConvergenceWarning: \n",
      "The optimizer returned code 8. The message is:\n",
      "Positive directional derivative for linesearch\n",
      "See scipy.optimize.fmin_slsqp for code meaning.\n",
      "\n",
      "  ConvergenceWarning)\n"
     ]
    },
    {
     "name": "stdout",
     "output_type": "stream",
     "text": [
      "Iteration:      6,   Func. Count:     78,   Neg. LLF: -76413.38824142626\n",
      "Positive directional derivative for linesearch    (Exit mode 8)\n",
      "            Current function value: -76413.3818877\n",
      "            Iterations: 15\n",
      "            Function evaluations: 151\n",
      "            Gradient evaluations: 11\n"
     ]
    },
    {
     "name": "stderr",
     "output_type": "stream",
     "text": [
      "C:\\Program Files\\Anaconda3\\lib\\site-packages\\arch\\univariate\\base.py:510: ConvergenceWarning: \n",
      "The optimizer returned code 8. The message is:\n",
      "Positive directional derivative for linesearch\n",
      "See scipy.optimize.fmin_slsqp for code meaning.\n",
      "\n",
      "  ConvergenceWarning)\n"
     ]
    },
    {
     "name": "stdout",
     "output_type": "stream",
     "text": [
      "Iteration:      6,   Func. Count:     78,   Neg. LLF: -76413.38824142626\n",
      "Positive directional derivative for linesearch    (Exit mode 8)\n",
      "            Current function value: -76413.3818877\n",
      "            Iterations: 15\n",
      "            Function evaluations: 151\n",
      "            Gradient evaluations: 11\n"
     ]
    },
    {
     "name": "stderr",
     "output_type": "stream",
     "text": [
      "C:\\Program Files\\Anaconda3\\lib\\site-packages\\arch\\univariate\\base.py:510: ConvergenceWarning: \n",
      "The optimizer returned code 8. The message is:\n",
      "Positive directional derivative for linesearch\n",
      "See scipy.optimize.fmin_slsqp for code meaning.\n",
      "\n",
      "  ConvergenceWarning)\n"
     ]
    },
    {
     "name": "stdout",
     "output_type": "stream",
     "text": [
      "Iteration:      6,   Func. Count:     78,   Neg. LLF: -76413.38824142626\n",
      "Positive directional derivative for linesearch    (Exit mode 8)\n",
      "            Current function value: -76413.3818877\n",
      "            Iterations: 15\n",
      "            Function evaluations: 151\n",
      "            Gradient evaluations: 11\n"
     ]
    },
    {
     "name": "stderr",
     "output_type": "stream",
     "text": [
      "C:\\Program Files\\Anaconda3\\lib\\site-packages\\arch\\univariate\\base.py:510: ConvergenceWarning: \n",
      "The optimizer returned code 8. The message is:\n",
      "Positive directional derivative for linesearch\n",
      "See scipy.optimize.fmin_slsqp for code meaning.\n",
      "\n",
      "  ConvergenceWarning)\n"
     ]
    },
    {
     "name": "stdout",
     "output_type": "stream",
     "text": [
      "Iteration:      6,   Func. Count:     78,   Neg. LLF: -76413.38824142626\n",
      "Positive directional derivative for linesearch    (Exit mode 8)\n",
      "            Current function value: -76413.3818877\n",
      "            Iterations: 15\n",
      "            Function evaluations: 151\n",
      "            Gradient evaluations: 11\n"
     ]
    },
    {
     "name": "stderr",
     "output_type": "stream",
     "text": [
      "C:\\Program Files\\Anaconda3\\lib\\site-packages\\arch\\univariate\\base.py:510: ConvergenceWarning: \n",
      "The optimizer returned code 8. The message is:\n",
      "Positive directional derivative for linesearch\n",
      "See scipy.optimize.fmin_slsqp for code meaning.\n",
      "\n",
      "  ConvergenceWarning)\n"
     ]
    },
    {
     "name": "stdout",
     "output_type": "stream",
     "text": [
      "Iteration:      6,   Func. Count:     78,   Neg. LLF: -76413.38824142626\n",
      "Positive directional derivative for linesearch    (Exit mode 8)\n",
      "            Current function value: -76413.3818877\n",
      "            Iterations: 15\n",
      "            Function evaluations: 151\n",
      "            Gradient evaluations: 11\n"
     ]
    },
    {
     "name": "stderr",
     "output_type": "stream",
     "text": [
      "C:\\Program Files\\Anaconda3\\lib\\site-packages\\arch\\univariate\\base.py:510: ConvergenceWarning: \n",
      "The optimizer returned code 8. The message is:\n",
      "Positive directional derivative for linesearch\n",
      "See scipy.optimize.fmin_slsqp for code meaning.\n",
      "\n",
      "  ConvergenceWarning)\n"
     ]
    },
    {
     "name": "stdout",
     "output_type": "stream",
     "text": [
      "Iteration:      6,   Func. Count:     78,   Neg. LLF: -76413.38824142626\n",
      "Positive directional derivative for linesearch    (Exit mode 8)\n",
      "            Current function value: -76413.3818877\n",
      "            Iterations: 15\n",
      "            Function evaluations: 151\n",
      "            Gradient evaluations: 11\n"
     ]
    },
    {
     "name": "stderr",
     "output_type": "stream",
     "text": [
      "C:\\Program Files\\Anaconda3\\lib\\site-packages\\arch\\univariate\\base.py:510: ConvergenceWarning: \n",
      "The optimizer returned code 8. The message is:\n",
      "Positive directional derivative for linesearch\n",
      "See scipy.optimize.fmin_slsqp for code meaning.\n",
      "\n",
      "  ConvergenceWarning)\n"
     ]
    },
    {
     "name": "stdout",
     "output_type": "stream",
     "text": [
      "Iteration:      6,   Func. Count:     78,   Neg. LLF: -76413.38824142626\n",
      "Positive directional derivative for linesearch    (Exit mode 8)\n",
      "            Current function value: -76413.3818877\n",
      "            Iterations: 15\n",
      "            Function evaluations: 151\n",
      "            Gradient evaluations: 11\n"
     ]
    },
    {
     "name": "stderr",
     "output_type": "stream",
     "text": [
      "C:\\Program Files\\Anaconda3\\lib\\site-packages\\arch\\univariate\\base.py:510: ConvergenceWarning: \n",
      "The optimizer returned code 8. The message is:\n",
      "Positive directional derivative for linesearch\n",
      "See scipy.optimize.fmin_slsqp for code meaning.\n",
      "\n",
      "  ConvergenceWarning)\n"
     ]
    },
    {
     "name": "stdout",
     "output_type": "stream",
     "text": [
      "Iteration:      6,   Func. Count:     78,   Neg. LLF: -76413.38824142626\n",
      "Positive directional derivative for linesearch    (Exit mode 8)\n",
      "            Current function value: -76413.3818877\n",
      "            Iterations: 15\n",
      "            Function evaluations: 151\n",
      "            Gradient evaluations: 11\n"
     ]
    },
    {
     "name": "stderr",
     "output_type": "stream",
     "text": [
      "C:\\Program Files\\Anaconda3\\lib\\site-packages\\arch\\univariate\\base.py:510: ConvergenceWarning: \n",
      "The optimizer returned code 8. The message is:\n",
      "Positive directional derivative for linesearch\n",
      "See scipy.optimize.fmin_slsqp for code meaning.\n",
      "\n",
      "  ConvergenceWarning)\n"
     ]
    },
    {
     "name": "stdout",
     "output_type": "stream",
     "text": [
      "Iteration:      6,   Func. Count:     78,   Neg. LLF: -76413.38824142626\n",
      "Positive directional derivative for linesearch    (Exit mode 8)\n",
      "            Current function value: -76413.3818877\n",
      "            Iterations: 15\n",
      "            Function evaluations: 151\n",
      "            Gradient evaluations: 11\n"
     ]
    },
    {
     "name": "stderr",
     "output_type": "stream",
     "text": [
      "C:\\Program Files\\Anaconda3\\lib\\site-packages\\arch\\univariate\\base.py:510: ConvergenceWarning: \n",
      "The optimizer returned code 8. The message is:\n",
      "Positive directional derivative for linesearch\n",
      "See scipy.optimize.fmin_slsqp for code meaning.\n",
      "\n",
      "  ConvergenceWarning)\n"
     ]
    },
    {
     "name": "stdout",
     "output_type": "stream",
     "text": [
      "Iteration:      6,   Func. Count:     78,   Neg. LLF: -76413.38824142626\n",
      "Positive directional derivative for linesearch    (Exit mode 8)\n",
      "            Current function value: -76413.3818877\n",
      "            Iterations: 15\n",
      "            Function evaluations: 151\n",
      "            Gradient evaluations: 11\n"
     ]
    },
    {
     "name": "stderr",
     "output_type": "stream",
     "text": [
      "C:\\Program Files\\Anaconda3\\lib\\site-packages\\arch\\univariate\\base.py:510: ConvergenceWarning: \n",
      "The optimizer returned code 8. The message is:\n",
      "Positive directional derivative for linesearch\n",
      "See scipy.optimize.fmin_slsqp for code meaning.\n",
      "\n",
      "  ConvergenceWarning)\n"
     ]
    },
    {
     "name": "stdout",
     "output_type": "stream",
     "text": [
      "Iteration:      6,   Func. Count:     78,   Neg. LLF: -76413.38824142626\n",
      "Positive directional derivative for linesearch    (Exit mode 8)\n",
      "            Current function value: -76413.3818877\n",
      "            Iterations: 15\n",
      "            Function evaluations: 151\n",
      "            Gradient evaluations: 11\n"
     ]
    },
    {
     "name": "stderr",
     "output_type": "stream",
     "text": [
      "C:\\Program Files\\Anaconda3\\lib\\site-packages\\arch\\univariate\\base.py:510: ConvergenceWarning: \n",
      "The optimizer returned code 8. The message is:\n",
      "Positive directional derivative for linesearch\n",
      "See scipy.optimize.fmin_slsqp for code meaning.\n",
      "\n",
      "  ConvergenceWarning)\n"
     ]
    },
    {
     "name": "stdout",
     "output_type": "stream",
     "text": [
      "Iteration:      6,   Func. Count:     78,   Neg. LLF: -76413.38824142626\n",
      "Positive directional derivative for linesearch    (Exit mode 8)\n",
      "            Current function value: -76413.3818877\n",
      "            Iterations: 15\n",
      "            Function evaluations: 151\n",
      "            Gradient evaluations: 11\n"
     ]
    },
    {
     "name": "stderr",
     "output_type": "stream",
     "text": [
      "C:\\Program Files\\Anaconda3\\lib\\site-packages\\arch\\univariate\\base.py:510: ConvergenceWarning: \n",
      "The optimizer returned code 8. The message is:\n",
      "Positive directional derivative for linesearch\n",
      "See scipy.optimize.fmin_slsqp for code meaning.\n",
      "\n",
      "  ConvergenceWarning)\n"
     ]
    },
    {
     "name": "stdout",
     "output_type": "stream",
     "text": [
      "Iteration:      6,   Func. Count:     78,   Neg. LLF: -76413.38824142626\n",
      "Positive directional derivative for linesearch    (Exit mode 8)\n",
      "            Current function value: -76413.3818877\n",
      "            Iterations: 15\n",
      "            Function evaluations: 151\n",
      "            Gradient evaluations: 11\n"
     ]
    },
    {
     "name": "stderr",
     "output_type": "stream",
     "text": [
      "C:\\Program Files\\Anaconda3\\lib\\site-packages\\arch\\univariate\\base.py:510: ConvergenceWarning: \n",
      "The optimizer returned code 8. The message is:\n",
      "Positive directional derivative for linesearch\n",
      "See scipy.optimize.fmin_slsqp for code meaning.\n",
      "\n",
      "  ConvergenceWarning)\n"
     ]
    },
    {
     "name": "stdout",
     "output_type": "stream",
     "text": [
      "Iteration:      6,   Func. Count:     78,   Neg. LLF: -76413.38824142626\n",
      "Positive directional derivative for linesearch    (Exit mode 8)\n",
      "            Current function value: -76413.3818877\n",
      "            Iterations: 15\n",
      "            Function evaluations: 151\n",
      "            Gradient evaluations: 11\n"
     ]
    },
    {
     "name": "stderr",
     "output_type": "stream",
     "text": [
      "C:\\Program Files\\Anaconda3\\lib\\site-packages\\arch\\univariate\\base.py:510: ConvergenceWarning: \n",
      "The optimizer returned code 8. The message is:\n",
      "Positive directional derivative for linesearch\n",
      "See scipy.optimize.fmin_slsqp for code meaning.\n",
      "\n",
      "  ConvergenceWarning)\n"
     ]
    },
    {
     "name": "stdout",
     "output_type": "stream",
     "text": [
      "Iteration:      6,   Func. Count:     78,   Neg. LLF: -76413.38824142626\n",
      "Positive directional derivative for linesearch    (Exit mode 8)\n",
      "            Current function value: -76413.3818877\n",
      "            Iterations: 15\n",
      "            Function evaluations: 151\n",
      "            Gradient evaluations: 11\n"
     ]
    },
    {
     "name": "stderr",
     "output_type": "stream",
     "text": [
      "C:\\Program Files\\Anaconda3\\lib\\site-packages\\arch\\univariate\\base.py:510: ConvergenceWarning: \n",
      "The optimizer returned code 8. The message is:\n",
      "Positive directional derivative for linesearch\n",
      "See scipy.optimize.fmin_slsqp for code meaning.\n",
      "\n",
      "  ConvergenceWarning)\n"
     ]
    },
    {
     "name": "stdout",
     "output_type": "stream",
     "text": [
      "Iteration:      6,   Func. Count:     78,   Neg. LLF: -76413.38824142626\n",
      "Positive directional derivative for linesearch    (Exit mode 8)\n",
      "            Current function value: -76413.3818877\n",
      "            Iterations: 15\n",
      "            Function evaluations: 151\n",
      "            Gradient evaluations: 11\n"
     ]
    },
    {
     "name": "stderr",
     "output_type": "stream",
     "text": [
      "C:\\Program Files\\Anaconda3\\lib\\site-packages\\arch\\univariate\\base.py:510: ConvergenceWarning: \n",
      "The optimizer returned code 8. The message is:\n",
      "Positive directional derivative for linesearch\n",
      "See scipy.optimize.fmin_slsqp for code meaning.\n",
      "\n",
      "  ConvergenceWarning)\n"
     ]
    },
    {
     "name": "stdout",
     "output_type": "stream",
     "text": [
      "Iteration:      6,   Func. Count:     78,   Neg. LLF: -76413.38824142626\n",
      "Positive directional derivative for linesearch    (Exit mode 8)\n",
      "            Current function value: -76413.3818877\n",
      "            Iterations: 15\n",
      "            Function evaluations: 151\n",
      "            Gradient evaluations: 11\n",
      "Iteration:      6,   Func. Count:     78,   Neg. LLF: -76413.38824142626\n"
     ]
    },
    {
     "name": "stderr",
     "output_type": "stream",
     "text": [
      "C:\\Program Files\\Anaconda3\\lib\\site-packages\\arch\\univariate\\base.py:510: ConvergenceWarning: \n",
      "The optimizer returned code 8. The message is:\n",
      "Positive directional derivative for linesearch\n",
      "See scipy.optimize.fmin_slsqp for code meaning.\n",
      "\n",
      "  ConvergenceWarning)\n"
     ]
    },
    {
     "name": "stdout",
     "output_type": "stream",
     "text": [
      "Positive directional derivative for linesearch    (Exit mode 8)\n",
      "            Current function value: -76413.3818877\n",
      "            Iterations: 15\n",
      "            Function evaluations: 151\n",
      "            Gradient evaluations: 11\n",
      "Iteration:      6,   Func. Count:     78,   Neg. LLF: -76413.38824142626\n"
     ]
    },
    {
     "name": "stderr",
     "output_type": "stream",
     "text": [
      "C:\\Program Files\\Anaconda3\\lib\\site-packages\\arch\\univariate\\base.py:510: ConvergenceWarning: \n",
      "The optimizer returned code 8. The message is:\n",
      "Positive directional derivative for linesearch\n",
      "See scipy.optimize.fmin_slsqp for code meaning.\n",
      "\n",
      "  ConvergenceWarning)\n"
     ]
    },
    {
     "name": "stdout",
     "output_type": "stream",
     "text": [
      "Positive directional derivative for linesearch    (Exit mode 8)\n",
      "            Current function value: -76413.3818877\n",
      "            Iterations: 15\n",
      "            Function evaluations: 151\n",
      "            Gradient evaluations: 11\n",
      "Iteration:      6,   Func. Count:     78,   Neg. LLF: -76413.38824142626\n"
     ]
    },
    {
     "name": "stderr",
     "output_type": "stream",
     "text": [
      "C:\\Program Files\\Anaconda3\\lib\\site-packages\\arch\\univariate\\base.py:510: ConvergenceWarning: \n",
      "The optimizer returned code 8. The message is:\n",
      "Positive directional derivative for linesearch\n",
      "See scipy.optimize.fmin_slsqp for code meaning.\n",
      "\n",
      "  ConvergenceWarning)\n"
     ]
    },
    {
     "name": "stdout",
     "output_type": "stream",
     "text": [
      "Positive directional derivative for linesearch    (Exit mode 8)\n",
      "            Current function value: -76413.3818877\n",
      "            Iterations: 15\n",
      "            Function evaluations: 151\n",
      "            Gradient evaluations: 11\n",
      "Iteration:      6,   Func. Count:     78,   Neg. LLF: -76413.38824142626\n"
     ]
    },
    {
     "name": "stderr",
     "output_type": "stream",
     "text": [
      "C:\\Program Files\\Anaconda3\\lib\\site-packages\\arch\\univariate\\base.py:510: ConvergenceWarning: \n",
      "The optimizer returned code 8. The message is:\n",
      "Positive directional derivative for linesearch\n",
      "See scipy.optimize.fmin_slsqp for code meaning.\n",
      "\n",
      "  ConvergenceWarning)\n"
     ]
    },
    {
     "name": "stdout",
     "output_type": "stream",
     "text": [
      "Positive directional derivative for linesearch    (Exit mode 8)\n",
      "            Current function value: -76413.3818877\n",
      "            Iterations: 15\n",
      "            Function evaluations: 151\n",
      "            Gradient evaluations: 11\n",
      "Iteration:      6,   Func. Count:     78,   Neg. LLF: -76413.38824142626\n"
     ]
    },
    {
     "name": "stderr",
     "output_type": "stream",
     "text": [
      "C:\\Program Files\\Anaconda3\\lib\\site-packages\\arch\\univariate\\base.py:510: ConvergenceWarning: \n",
      "The optimizer returned code 8. The message is:\n",
      "Positive directional derivative for linesearch\n",
      "See scipy.optimize.fmin_slsqp for code meaning.\n",
      "\n",
      "  ConvergenceWarning)\n"
     ]
    },
    {
     "name": "stdout",
     "output_type": "stream",
     "text": [
      "Positive directional derivative for linesearch    (Exit mode 8)\n",
      "            Current function value: -76413.3818877\n",
      "            Iterations: 15\n",
      "            Function evaluations: 151\n",
      "            Gradient evaluations: 11\n",
      "Iteration:      6,   Func. Count:     78,   Neg. LLF: -76413.38824142626\n"
     ]
    },
    {
     "name": "stderr",
     "output_type": "stream",
     "text": [
      "C:\\Program Files\\Anaconda3\\lib\\site-packages\\arch\\univariate\\base.py:510: ConvergenceWarning: \n",
      "The optimizer returned code 8. The message is:\n",
      "Positive directional derivative for linesearch\n",
      "See scipy.optimize.fmin_slsqp for code meaning.\n",
      "\n",
      "  ConvergenceWarning)\n"
     ]
    },
    {
     "name": "stdout",
     "output_type": "stream",
     "text": [
      "Positive directional derivative for linesearch    (Exit mode 8)\n",
      "            Current function value: -76413.3818877\n",
      "            Iterations: 15\n",
      "            Function evaluations: 151\n",
      "            Gradient evaluations: 11\n",
      "Iteration:      6,   Func. Count:     78,   Neg. LLF: -76413.38824142626\n",
      "Positive directional derivative for linesearch    (Exit mode 8)\n",
      "            Current function value: -76413.3818877\n",
      "            Iterations: 15\n",
      "            Function evaluations: 151\n",
      "            Gradient evaluations: 11\n"
     ]
    },
    {
     "name": "stderr",
     "output_type": "stream",
     "text": [
      "C:\\Program Files\\Anaconda3\\lib\\site-packages\\arch\\univariate\\base.py:510: ConvergenceWarning: \n",
      "The optimizer returned code 8. The message is:\n",
      "Positive directional derivative for linesearch\n",
      "See scipy.optimize.fmin_slsqp for code meaning.\n",
      "\n",
      "  ConvergenceWarning)\n",
      "C:\\Program Files\\Anaconda3\\lib\\site-packages\\arch\\univariate\\base.py:510: ConvergenceWarning: \n",
      "The optimizer returned code 8. The message is:\n",
      "Positive directional derivative for linesearch\n",
      "See scipy.optimize.fmin_slsqp for code meaning.\n",
      "\n",
      "  ConvergenceWarning)\n"
     ]
    },
    {
     "name": "stdout",
     "output_type": "stream",
     "text": [
      "Iteration:      6,   Func. Count:     78,   Neg. LLF: -76413.38824142626\n",
      "Positive directional derivative for linesearch    (Exit mode 8)\n",
      "            Current function value: -76413.3818877\n",
      "            Iterations: 15\n",
      "            Function evaluations: 151\n",
      "            Gradient evaluations: 11\n"
     ]
    },
    {
     "name": "stderr",
     "output_type": "stream",
     "text": [
      "C:\\Program Files\\Anaconda3\\lib\\site-packages\\arch\\univariate\\base.py:510: ConvergenceWarning: \n",
      "The optimizer returned code 8. The message is:\n",
      "Positive directional derivative for linesearch\n",
      "See scipy.optimize.fmin_slsqp for code meaning.\n",
      "\n",
      "  ConvergenceWarning)\n"
     ]
    },
    {
     "name": "stdout",
     "output_type": "stream",
     "text": [
      "Iteration:      6,   Func. Count:     78,   Neg. LLF: -76413.38824142626\n",
      "Positive directional derivative for linesearch    (Exit mode 8)\n",
      "            Current function value: -76413.3818877\n",
      "            Iterations: 15\n",
      "            Function evaluations: 151\n",
      "            Gradient evaluations: 11\n"
     ]
    },
    {
     "name": "stderr",
     "output_type": "stream",
     "text": [
      "C:\\Program Files\\Anaconda3\\lib\\site-packages\\arch\\univariate\\base.py:510: ConvergenceWarning: \n",
      "The optimizer returned code 8. The message is:\n",
      "Positive directional derivative for linesearch\n",
      "See scipy.optimize.fmin_slsqp for code meaning.\n",
      "\n",
      "  ConvergenceWarning)\n"
     ]
    },
    {
     "name": "stdout",
     "output_type": "stream",
     "text": [
      "Iteration:      6,   Func. Count:     78,   Neg. LLF: -76413.38824142626\n",
      "Positive directional derivative for linesearch    (Exit mode 8)\n",
      "            Current function value: -76413.3818877\n",
      "            Iterations: 15\n",
      "            Function evaluations: 151\n",
      "            Gradient evaluations: 11\n"
     ]
    },
    {
     "name": "stderr",
     "output_type": "stream",
     "text": [
      "C:\\Program Files\\Anaconda3\\lib\\site-packages\\arch\\univariate\\base.py:510: ConvergenceWarning: \n",
      "The optimizer returned code 8. The message is:\n",
      "Positive directional derivative for linesearch\n",
      "See scipy.optimize.fmin_slsqp for code meaning.\n",
      "\n",
      "  ConvergenceWarning)\n"
     ]
    },
    {
     "name": "stdout",
     "output_type": "stream",
     "text": [
      "Iteration:      6,   Func. Count:     78,   Neg. LLF: -76413.38824142626\n",
      "Positive directional derivative for linesearch    (Exit mode 8)\n",
      "            Current function value: -76413.3818877\n",
      "            Iterations: 15\n",
      "            Function evaluations: 151\n",
      "            Gradient evaluations: 11\n"
     ]
    },
    {
     "name": "stderr",
     "output_type": "stream",
     "text": [
      "C:\\Program Files\\Anaconda3\\lib\\site-packages\\arch\\univariate\\base.py:510: ConvergenceWarning: \n",
      "The optimizer returned code 8. The message is:\n",
      "Positive directional derivative for linesearch\n",
      "See scipy.optimize.fmin_slsqp for code meaning.\n",
      "\n",
      "  ConvergenceWarning)\n"
     ]
    },
    {
     "name": "stdout",
     "output_type": "stream",
     "text": [
      "Iteration:      6,   Func. Count:     78,   Neg. LLF: -76413.38824142626\n",
      "Positive directional derivative for linesearch    (Exit mode 8)\n",
      "            Current function value: -76413.3818877\n",
      "            Iterations: 15\n",
      "            Function evaluations: 151\n",
      "            Gradient evaluations: 11\n"
     ]
    },
    {
     "name": "stderr",
     "output_type": "stream",
     "text": [
      "C:\\Program Files\\Anaconda3\\lib\\site-packages\\arch\\univariate\\base.py:510: ConvergenceWarning: \n",
      "The optimizer returned code 8. The message is:\n",
      "Positive directional derivative for linesearch\n",
      "See scipy.optimize.fmin_slsqp for code meaning.\n",
      "\n",
      "  ConvergenceWarning)\n"
     ]
    },
    {
     "name": "stdout",
     "output_type": "stream",
     "text": [
      "Iteration:      6,   Func. Count:     78,   Neg. LLF: -76413.38824142626\n",
      "Positive directional derivative for linesearch    (Exit mode 8)\n",
      "            Current function value: -76413.3818877\n",
      "            Iterations: 15\n",
      "            Function evaluations: 151\n",
      "            Gradient evaluations: 11\n"
     ]
    },
    {
     "name": "stderr",
     "output_type": "stream",
     "text": [
      "C:\\Program Files\\Anaconda3\\lib\\site-packages\\arch\\univariate\\base.py:510: ConvergenceWarning: \n",
      "The optimizer returned code 8. The message is:\n",
      "Positive directional derivative for linesearch\n",
      "See scipy.optimize.fmin_slsqp for code meaning.\n",
      "\n",
      "  ConvergenceWarning)\n"
     ]
    }
   ],
   "source": [
    "# 找出ARCH(m)中的m\n",
    "import numpy as np\n",
    "def testing(n):\n",
    "    am = arch_model(data[column_1],x=Date,lags=[1,5,20],vol='ARCH',q=n)\n",
    "    result = am.fit(update_freq=6)\n",
    "    a=result.aic\n",
    "    select[n]=a\n",
    "select = np.zeros(101)\n",
    "\n",
    "for i in range(1,100):\n",
    "    testing(i)\n"
   ]
  },
  {
   "cell_type": "code",
   "execution_count": 15,
   "metadata": {
    "collapsed": false,
    "scrolled": false
   },
   "outputs": [
    {
     "name": "stdout",
     "output_type": "stream",
     "text": [
      "Iteration:      6,   Func. Count:     78,   Neg. LLF: -76413.38824142626\n",
      "Positive directional derivative for linesearch    (Exit mode 8)\n",
      "            Current function value: -76413.3818877\n",
      "            Iterations: 15\n",
      "            Function evaluations: 151\n",
      "            Gradient evaluations: 11\n",
      "                      Constant Mean - ARCH Model Results                      \n",
      "==============================================================================\n",
      "Dep. Variable:                 vwretd   R-squared:                      -0.001\n",
      "Mean Model:             Constant Mean   Adj. R-squared:                 -0.001\n",
      "Vol Model:                       ARCH   Log-Likelihood:                76413.4\n",
      "Distribution:                  Normal   AIC:                          -152821.\n",
      "Method:            Maximum Likelihood   BIC:                          -152797.\n",
      "                                        No. Observations:                23786\n",
      "Date:                Fri, Dec 30 2016   Df Residuals:                    23783\n",
      "Time:                        17:29:28   Df Model:                            3\n",
      "                                  Mean Model                                  \n",
      "==============================================================================\n",
      "                 coef    std err          t      P>|t|        95.0% Conf. Int.\n",
      "------------------------------------------------------------------------------\n",
      "mu         6.8793e-04  7.596e-05      9.057  1.345e-19   [5.391e-04,8.368e-04]\n",
      "                               Volatility Model                               \n",
      "==============================================================================\n",
      "                 coef    std err          t      P>|t|        95.0% Conf. Int.\n",
      "------------------------------------------------------------------------------\n",
      "omega      6.8008e-05  1.791e-06     37.966      0.000   [6.450e-05,7.152e-05]\n",
      "alpha[1]       0.4000  2.756e-02     14.515  9.718e-48       [  0.346,  0.454]\n",
      "==============================================================================\n",
      "\n",
      "Covariance estimator: robust\n",
      "\n",
      "WARNING: The optimizer did not indicate sucessful convergence. The message was\n",
      "Positive directional derivative for linesearch. See convergence_flag.\n"
     ]
    },
    {
     "name": "stderr",
     "output_type": "stream",
     "text": [
      "C:\\Program Files\\Anaconda3\\lib\\site-packages\\arch\\univariate\\base.py:510: ConvergenceWarning: \n",
      "The optimizer returned code 8. The message is:\n",
      "Positive directional derivative for linesearch\n",
      "See scipy.optimize.fmin_slsqp for code meaning.\n",
      "\n",
      "  ConvergenceWarning)\n"
     ]
    }
   ],
   "source": [
    "b = np.min(select)\n",
    "m = select.argmin(axis=None,out=None)\n",
    "am = arch_model(data[column_1],lags=1,vol='ARCH',p=m)\n",
    "result = am.fit(update_freq=6)\n",
    "print (result.summary())"
   ]
  },
  {
   "cell_type": "code",
   "execution_count": 14,
   "metadata": {
    "collapsed": false,
    "scrolled": true
   },
   "outputs": [
    {
     "name": "stdout",
     "output_type": "stream",
     "text": [
      "1\n"
     ]
    }
   ],
   "source": [
    "print (m)"
   ]
  },
  {
   "cell_type": "code",
   "execution_count": 17,
   "metadata": {
    "collapsed": false,
    "scrolled": true
   },
   "outputs": [
    {
     "name": "stdout",
     "output_type": "stream",
     "text": [
      "Inequality constraints incompatible    (Exit mode 4)\n",
      "            Current function value: -80486.0872139\n",
      "            Iterations: 1\n",
      "            Function evaluations: 6\n",
      "            Gradient evaluations: 1\n",
      "                     Constant Mean - GARCH Model Results                      \n",
      "==============================================================================\n",
      "Dep. Variable:                 vwretd   R-squared:                       0.000\n",
      "Mean Model:             Constant Mean   Adj. R-squared:                  0.000\n",
      "Vol Model:                      GARCH   Log-Likelihood:                80486.1\n",
      "Distribution:                  Normal   AIC:                          -160964.\n",
      "Method:            Maximum Likelihood   BIC:                          -160932.\n",
      "                                        No. Observations:                23786\n",
      "Date:                Fri, Dec 30 2016   Df Residuals:                    23782\n",
      "Time:                        17:33:59   Df Model:                            4\n",
      "                                  Mean Model                                  \n",
      "==============================================================================\n",
      "                 coef    std err          t      P>|t|        95.0% Conf. Int.\n",
      "------------------------------------------------------------------------------\n",
      "mu         4.0592e-04  4.494e-05      9.032  1.690e-19   [3.178e-04,4.940e-04]\n",
      "                               Volatility Model                               \n",
      "==============================================================================\n",
      "                 coef    std err          t      P>|t|        95.0% Conf. Int.\n",
      "------------------------------------------------------------------------------\n",
      "omega      2.2669e-06  7.542e-13  3.006e+06      0.000   [2.267e-06,2.267e-06]\n",
      "alpha[1]       0.1000  2.768e-03     36.129 7.817e-286     [9.458e-02,  0.105]\n",
      "beta[1]        0.8800  3.030e-03    290.441      0.000       [  0.874,  0.886]\n",
      "==============================================================================\n",
      "\n",
      "Covariance estimator: robust\n",
      "\n",
      "WARNING: The optimizer did not indicate sucessful convergence. The message was\n",
      "Inequality constraints incompatible. See convergence_flag.\n"
     ]
    },
    {
     "name": "stderr",
     "output_type": "stream",
     "text": [
      "C:\\Program Files\\Anaconda3\\lib\\site-packages\\arch\\univariate\\base.py:510: ConvergenceWarning: \n",
      "The optimizer returned code 4. The message is:\n",
      "Inequality constraints incompatible\n",
      "See scipy.optimize.fmin_slsqp for code meaning.\n",
      "\n",
      "  ConvergenceWarning)\n"
     ]
    }
   ],
   "source": [
    "am = arch_model(data[column_1],lags=1,vol='GARCH',mean='Constant')\n",
    "result = am.fit(update_freq=6)\n",
    "print (result.summary())"
   ]
  },
  {
   "cell_type": "code",
   "execution_count": 19,
   "metadata": {
    "collapsed": false,
    "scrolled": true
   },
   "outputs": [
    {
     "name": "stdout",
     "output_type": "stream",
     "text": [
      "Inequality constraints incompatible    (Exit mode 4)\n",
      "            Current function value: -80396.8075367\n",
      "            Iterations: 1\n",
      "            Function evaluations: 5\n",
      "            Gradient evaluations: 1\n",
      "                       Zero Mean - GARCH Model Results                        \n",
      "==============================================================================\n",
      "Dep. Variable:                 vwretd   R-squared:                       0.000\n",
      "Mean Model:                 Zero Mean   Adj. R-squared:                  0.000\n",
      "Vol Model:                      GARCH   Log-Likelihood:                80396.8\n",
      "Distribution:                  Normal   AIC:                          -160788.\n",
      "Method:            Maximum Likelihood   BIC:                          -160763.\n",
      "                                        No. Observations:                23786\n",
      "Date:                Fri, Dec 30 2016   Df Residuals:                    23783\n",
      "Time:                        17:34:11   Df Model:                            3\n",
      "                               Volatility Model                               \n",
      "==============================================================================\n",
      "                 coef    std err          t      P>|t|        95.0% Conf. Int.\n",
      "------------------------------------------------------------------------------\n",
      "omega      2.2702e-06  8.476e-13  2.678e+06      0.000   [2.270e-06,2.270e-06]\n",
      "alpha[1]       0.1000  4.686e-05   2134.237      0.000     [9.991e-02,  0.100]\n",
      "beta[1]        0.8800  1.569e-03    560.761      0.000       [  0.877,  0.883]\n",
      "==============================================================================\n",
      "\n",
      "Covariance estimator: robust\n",
      "\n",
      "WARNING: The optimizer did not indicate sucessful convergence. The message was\n",
      "Inequality constraints incompatible. See convergence_flag.\n"
     ]
    },
    {
     "name": "stderr",
     "output_type": "stream",
     "text": [
      "C:\\Program Files\\Anaconda3\\lib\\site-packages\\arch\\univariate\\base.py:510: ConvergenceWarning: \n",
      "The optimizer returned code 4. The message is:\n",
      "Inequality constraints incompatible\n",
      "See scipy.optimize.fmin_slsqp for code meaning.\n",
      "\n",
      "  ConvergenceWarning)\n"
     ]
    }
   ],
   "source": [
    "am = arch_model(data[column_1],lags=1,vol='GARCH',mean='Zero')\n",
    "result = am.fit(update_freq=6)\n",
    "print (result.summary())"
   ]
  },
  {
   "cell_type": "code",
   "execution_count": 21,
   "metadata": {
    "collapsed": false,
    "scrolled": true
   },
   "outputs": [
    {
     "name": "stdout",
     "output_type": "stream",
     "text": [
      "Inequality constraints incompatible    (Exit mode 4)\n",
      "            Current function value: -80623.6937409\n",
      "            Iterations: 1\n",
      "            Function evaluations: 7\n",
      "            Gradient evaluations: 1\n",
      "                           AR - GARCH Model Results                           \n",
      "==============================================================================\n",
      "Dep. Variable:                 vwretd   R-squared:                       0.005\n",
      "Mean Model:                        AR   Adj. R-squared:                  0.005\n",
      "Vol Model:                      GARCH   Log-Likelihood:                80623.7\n",
      "Distribution:                  Normal   AIC:                          -161237.\n",
      "Method:            Maximum Likelihood   BIC:                          -161197.\n",
      "                                        No. Observations:                23785\n",
      "Date:                Fri, Dec 30 2016   Df Residuals:                    23780\n",
      "Time:                        17:34:36   Df Model:                            5\n",
      "                                  Mean Model                                  \n",
      "==============================================================================\n",
      "                 coef    std err          t      P>|t|        95.0% Conf. Int.\n",
      "------------------------------------------------------------------------------\n",
      "Const      3.7680e-04  5.178e-05      7.276  3.430e-13   [2.753e-04,4.783e-04]\n",
      "vwretd[1]      0.0711  7.743e-03      9.187  4.031e-20   [5.596e-02,8.632e-02]\n",
      "                               Volatility Model                               \n",
      "==============================================================================\n",
      "                 coef    std err          t      P>|t|        95.0% Conf. Int.\n",
      "------------------------------------------------------------------------------\n",
      "omega      2.2555e-06  2.605e-13  8.657e+06      0.000   [2.256e-06,2.256e-06]\n",
      "alpha[1]       0.1000  3.294e-03     30.359 1.915e-202     [9.354e-02,  0.106]\n",
      "beta[1]        0.8800  2.826e-03    311.351      0.000       [  0.874,  0.886]\n",
      "==============================================================================\n",
      "\n",
      "Covariance estimator: robust\n",
      "\n",
      "WARNING: The optimizer did not indicate sucessful convergence. The message was\n",
      "Inequality constraints incompatible. See convergence_flag.\n"
     ]
    },
    {
     "name": "stderr",
     "output_type": "stream",
     "text": [
      "C:\\Program Files\\Anaconda3\\lib\\site-packages\\arch\\univariate\\base.py:510: ConvergenceWarning: \n",
      "The optimizer returned code 4. The message is:\n",
      "Inequality constraints incompatible\n",
      "See scipy.optimize.fmin_slsqp for code meaning.\n",
      "\n",
      "  ConvergenceWarning)\n"
     ]
    }
   ],
   "source": [
    "am = arch_model(data[column_1],lags=1,vol='GARCH',mean='ARX')\n",
    "result = am.fit(update_freq=6)\n",
    "print (result.summary())"
   ]
  },
  {
   "cell_type": "code",
   "execution_count": 22,
   "metadata": {
    "collapsed": false,
    "scrolled": true
   },
   "outputs": [
    {
     "name": "stdout",
     "output_type": "stream",
     "text": [
      "Inequality constraints incompatible    (Exit mode 4)\n",
      "            Current function value: -80623.6937409\n",
      "            Iterations: 1\n",
      "            Function evaluations: 7\n",
      "            Gradient evaluations: 1\n",
      "                          HAR - GARCH Model Results                           \n",
      "==============================================================================\n",
      "Dep. Variable:                 vwretd   R-squared:                       0.005\n",
      "Mean Model:                       HAR   Adj. R-squared:                  0.005\n",
      "Vol Model:                      GARCH   Log-Likelihood:                80623.7\n",
      "Distribution:                  Normal   AIC:                          -161237.\n",
      "Method:            Maximum Likelihood   BIC:                          -161197.\n",
      "                                        No. Observations:                23785\n",
      "Date:                Fri, Dec 30 2016   Df Residuals:                    23780\n",
      "Time:                        17:34:45   Df Model:                            5\n",
      "                                   Mean Model                                  \n",
      "===============================================================================\n",
      "                  coef    std err          t      P>|t|        95.0% Conf. Int.\n",
      "-------------------------------------------------------------------------------\n",
      "Const       3.7680e-04  5.178e-05      7.276  3.430e-13   [2.753e-04,4.783e-04]\n",
      "vwretd[0:1]     0.0711  7.743e-03      9.187  4.031e-20   [5.596e-02,8.632e-02]\n",
      "                               Volatility Model                               \n",
      "==============================================================================\n",
      "                 coef    std err          t      P>|t|        95.0% Conf. Int.\n",
      "------------------------------------------------------------------------------\n",
      "omega      2.2555e-06  2.605e-13  8.657e+06      0.000   [2.256e-06,2.256e-06]\n",
      "alpha[1]       0.1000  3.294e-03     30.359 1.915e-202     [9.354e-02,  0.106]\n",
      "beta[1]        0.8800  2.826e-03    311.351      0.000       [  0.874,  0.886]\n",
      "==============================================================================\n",
      "\n",
      "Covariance estimator: robust\n",
      "\n",
      "WARNING: The optimizer did not indicate sucessful convergence. The message was\n",
      "Inequality constraints incompatible. See convergence_flag.\n"
     ]
    },
    {
     "name": "stderr",
     "output_type": "stream",
     "text": [
      "C:\\Program Files\\Anaconda3\\lib\\site-packages\\arch\\univariate\\base.py:510: ConvergenceWarning: \n",
      "The optimizer returned code 4. The message is:\n",
      "Inequality constraints incompatible\n",
      "See scipy.optimize.fmin_slsqp for code meaning.\n",
      "\n",
      "  ConvergenceWarning)\n"
     ]
    }
   ],
   "source": [
    "am = arch_model(data[column_1],lags=1,vol='GARCH',mean='HARX')\n",
    "result = am.fit(update_freq=6)\n",
    "print (result.summary())"
   ]
  }
 ],
 "metadata": {
  "anaconda-cloud": {},
  "kernelspec": {
   "display_name": "Python [conda root]",
   "language": "python",
   "name": "conda-root-py"
  },
  "language_info": {
   "codemirror_mode": {
    "name": "ipython",
    "version": 3
   },
   "file_extension": ".py",
   "mimetype": "text/x-python",
   "name": "python",
   "nbconvert_exporter": "python",
   "pygments_lexer": "ipython3",
   "version": "3.5.2"
  }
 },
 "nbformat": 4,
 "nbformat_minor": 1
}
