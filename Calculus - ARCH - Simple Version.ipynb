{
 "cells": [
  {
   "cell_type": "code",
   "execution_count": 1,
   "metadata": {
    "collapsed": true
   },
   "outputs": [],
   "source": [
    "import numpy as np\n",
    "import pandas as pd\n",
    "from arch.univariate import arch_model\n",
    "\n",
    "column_1 = 'vwretd'\n",
    "\n",
    "df=pd.read_csv('D:/data/spreturn.csv')\n",
    "\n",
    "Date=df['date']\n",
    "\n",
    "df = df.drop('date',axis = 1)\n",
    "df = df.drop('year',axis = 1)\n",
    "df = df.drop('month',axis = 1)\n",
    "df = df.drop('day',axis = 1)\n",
    "df = df.values\n",
    "\n",
    "data=pd.DataFrame(df,columns=[column_1])"
   ]
  },
  {
   "cell_type": "code",
   "execution_count": 2,
   "metadata": {
    "collapsed": false,
    "scrolled": true
   },
   "outputs": [
    {
     "name": "stdout",
     "output_type": "stream",
     "text": [
      "Iteration:      6,   Func. Count:     78,   Neg. LLF: -76413.38824142626\n",
      "Positive directional derivative for linesearch    (Exit mode 8)\n",
      "            Current function value: -76413.3818877\n",
      "            Iterations: 15\n",
      "            Function evaluations: 151\n",
      "            Gradient evaluations: 11\n"
     ]
    },
    {
     "name": "stderr",
     "output_type": "stream",
     "text": [
      "C:\\Program Files\\Anaconda3\\lib\\site-packages\\arch\\univariate\\base.py:510: ConvergenceWarning: \n",
      "The optimizer returned code 8. The message is:\n",
      "Positive directional derivative for linesearch\n",
      "See scipy.optimize.fmin_slsqp for code meaning.\n",
      "\n",
      "  ConvergenceWarning)\n"
     ]
    },
    {
     "name": "stdout",
     "output_type": "stream",
     "text": [
      "Iteration:      6,   Func. Count:     78,   Neg. LLF: -76413.38824142626\n",
      "Positive directional derivative for linesearch    (Exit mode 8)\n",
      "            Current function value: -76413.3818877\n",
      "            Iterations: 15\n",
      "            Function evaluations: 151\n",
      "            Gradient evaluations: 11\n"
     ]
    },
    {
     "name": "stderr",
     "output_type": "stream",
     "text": [
      "C:\\Program Files\\Anaconda3\\lib\\site-packages\\arch\\univariate\\base.py:510: ConvergenceWarning: \n",
      "The optimizer returned code 8. The message is:\n",
      "Positive directional derivative for linesearch\n",
      "See scipy.optimize.fmin_slsqp for code meaning.\n",
      "\n",
      "  ConvergenceWarning)\n"
     ]
    },
    {
     "name": "stdout",
     "output_type": "stream",
     "text": [
      "Iteration:      6,   Func. Count:     78,   Neg. LLF: -76413.38824142626\n",
      "Positive directional derivative for linesearch    (Exit mode 8)\n",
      "            Current function value: -76413.3818877\n",
      "            Iterations: 15\n",
      "            Function evaluations: 151\n",
      "            Gradient evaluations: 11\n"
     ]
    },
    {
     "name": "stderr",
     "output_type": "stream",
     "text": [
      "C:\\Program Files\\Anaconda3\\lib\\site-packages\\arch\\univariate\\base.py:510: ConvergenceWarning: \n",
      "The optimizer returned code 8. The message is:\n",
      "Positive directional derivative for linesearch\n",
      "See scipy.optimize.fmin_slsqp for code meaning.\n",
      "\n",
      "  ConvergenceWarning)\n"
     ]
    },
    {
     "name": "stdout",
     "output_type": "stream",
     "text": [
      "Iteration:      6,   Func. Count:     78,   Neg. LLF: -76413.38824142626\n",
      "Positive directional derivative for linesearch    (Exit mode 8)\n",
      "            Current function value: -76413.3818877\n",
      "            Iterations: 15\n",
      "            Function evaluations: 151\n",
      "            Gradient evaluations: 11\n"
     ]
    },
    {
     "name": "stderr",
     "output_type": "stream",
     "text": [
      "C:\\Program Files\\Anaconda3\\lib\\site-packages\\arch\\univariate\\base.py:510: ConvergenceWarning: \n",
      "The optimizer returned code 8. The message is:\n",
      "Positive directional derivative for linesearch\n",
      "See scipy.optimize.fmin_slsqp for code meaning.\n",
      "\n",
      "  ConvergenceWarning)\n"
     ]
    },
    {
     "name": "stdout",
     "output_type": "stream",
     "text": [
      "Iteration:      6,   Func. Count:     78,   Neg. LLF: -76413.38824142626\n",
      "Positive directional derivative for linesearch    (Exit mode 8)\n",
      "            Current function value: -76413.3818877\n",
      "            Iterations: 15\n",
      "            Function evaluations: 151\n",
      "            Gradient evaluations: 11\n"
     ]
    },
    {
     "name": "stderr",
     "output_type": "stream",
     "text": [
      "C:\\Program Files\\Anaconda3\\lib\\site-packages\\arch\\univariate\\base.py:510: ConvergenceWarning: \n",
      "The optimizer returned code 8. The message is:\n",
      "Positive directional derivative for linesearch\n",
      "See scipy.optimize.fmin_slsqp for code meaning.\n",
      "\n",
      "  ConvergenceWarning)\n",
      "C:\\Program Files\\Anaconda3\\lib\\site-packages\\arch\\univariate\\base.py:510: ConvergenceWarning: \n",
      "The optimizer returned code 8. The message is:\n",
      "Positive directional derivative for linesearch\n",
      "See scipy.optimize.fmin_slsqp for code meaning.\n",
      "\n",
      "  ConvergenceWarning)\n"
     ]
    },
    {
     "name": "stdout",
     "output_type": "stream",
     "text": [
      "Iteration:      6,   Func. Count:     78,   Neg. LLF: -76413.38824142626\n",
      "Positive directional derivative for linesearch    (Exit mode 8)\n",
      "            Current function value: -76413.3818877\n",
      "            Iterations: 15\n",
      "            Function evaluations: 151\n",
      "            Gradient evaluations: 11\n",
      "Iteration:      6,   Func. Count:     78,   Neg. LLF: -76413.38824142626\n",
      "Positive directional derivative for linesearch    (Exit mode 8)\n",
      "            Current function value: -76413.3818877\n",
      "            Iterations: 15\n",
      "            Function evaluations: 151\n",
      "            Gradient evaluations: 11\n",
      "Iteration:      6,   Func. Count:     78,   Neg. LLF: -76413.38824142626\n"
     ]
    },
    {
     "name": "stderr",
     "output_type": "stream",
     "text": [
      "C:\\Program Files\\Anaconda3\\lib\\site-packages\\arch\\univariate\\base.py:510: ConvergenceWarning: \n",
      "The optimizer returned code 8. The message is:\n",
      "Positive directional derivative for linesearch\n",
      "See scipy.optimize.fmin_slsqp for code meaning.\n",
      "\n",
      "  ConvergenceWarning)\n"
     ]
    },
    {
     "name": "stdout",
     "output_type": "stream",
     "text": [
      "Positive directional derivative for linesearch    (Exit mode 8)\n",
      "            Current function value: -76413.3818877\n",
      "            Iterations: 15\n",
      "            Function evaluations: 151\n",
      "            Gradient evaluations: 11\n",
      "Iteration:      6,   Func. Count:     78,   Neg. LLF: -76413.38824142626\n"
     ]
    },
    {
     "name": "stderr",
     "output_type": "stream",
     "text": [
      "C:\\Program Files\\Anaconda3\\lib\\site-packages\\arch\\univariate\\base.py:510: ConvergenceWarning: \n",
      "The optimizer returned code 8. The message is:\n",
      "Positive directional derivative for linesearch\n",
      "See scipy.optimize.fmin_slsqp for code meaning.\n",
      "\n",
      "  ConvergenceWarning)\n"
     ]
    },
    {
     "name": "stdout",
     "output_type": "stream",
     "text": [
      "Positive directional derivative for linesearch    (Exit mode 8)\n",
      "            Current function value: -76413.3818877\n",
      "            Iterations: 15\n",
      "            Function evaluations: 151\n",
      "            Gradient evaluations: 11\n"
     ]
    },
    {
     "name": "stderr",
     "output_type": "stream",
     "text": [
      "C:\\Program Files\\Anaconda3\\lib\\site-packages\\arch\\univariate\\base.py:510: ConvergenceWarning: \n",
      "The optimizer returned code 8. The message is:\n",
      "Positive directional derivative for linesearch\n",
      "See scipy.optimize.fmin_slsqp for code meaning.\n",
      "\n",
      "  ConvergenceWarning)\n"
     ]
    }
   ],
   "source": [
    "# n為ARMA(m)中m要檢測的最大值\n",
    "n=10\n",
    "\n",
    "def testing(n):\n",
    "    am = arch_model(data[column_1],x=Date,lags=[1,5,20],vol='ARCH',q=n)\n",
    "    result = am.fit(update_freq=6)\n",
    "    a=result.aic\n",
    "    select[n]=a\n",
    "\n",
    "select = np.zeros(n+1)\n",
    "for i in range(1,n):\n",
    "    testing(i)"
   ]
  },
  {
   "cell_type": "code",
   "execution_count": 3,
   "metadata": {
    "collapsed": false
   },
   "outputs": [
    {
     "name": "stdout",
     "output_type": "stream",
     "text": [
      "Iteration:      6,   Func. Count:     78,   Neg. LLF: -76413.38824142626\n",
      "Positive directional derivative for linesearch    (Exit mode 8)\n",
      "            Current function value: -76413.3818877\n",
      "            Iterations: 15\n",
      "            Function evaluations: 151\n",
      "            Gradient evaluations: 11\n",
      "                      Constant Mean - ARCH Model Results                      \n",
      "==============================================================================\n",
      "Dep. Variable:                 vwretd   R-squared:                      -0.001\n",
      "Mean Model:             Constant Mean   Adj. R-squared:                 -0.001\n",
      "Vol Model:                       ARCH   Log-Likelihood:                76413.4\n",
      "Distribution:                  Normal   AIC:                          -152821.\n",
      "Method:            Maximum Likelihood   BIC:                          -152797.\n",
      "                                        No. Observations:                23786\n",
      "Date:                Fri, Dec 30 2016   Df Residuals:                    23783\n",
      "Time:                        20:23:52   Df Model:                            3\n",
      "                                  Mean Model                                  \n",
      "==============================================================================\n",
      "                 coef    std err          t      P>|t|        95.0% Conf. Int.\n",
      "------------------------------------------------------------------------------\n",
      "mu         6.8793e-04  7.596e-05      9.057  1.345e-19   [5.391e-04,8.368e-04]\n",
      "                               Volatility Model                               \n",
      "==============================================================================\n",
      "                 coef    std err          t      P>|t|        95.0% Conf. Int.\n",
      "------------------------------------------------------------------------------\n",
      "omega      6.8008e-05  1.791e-06     37.966      0.000   [6.450e-05,7.152e-05]\n",
      "alpha[1]       0.4000  2.756e-02     14.515  9.718e-48       [  0.346,  0.454]\n",
      "==============================================================================\n",
      "\n",
      "Covariance estimator: robust\n",
      "\n",
      "WARNING: The optimizer did not indicate sucessful convergence. The message was\n",
      "Positive directional derivative for linesearch. See convergence_flag.\n"
     ]
    },
    {
     "name": "stderr",
     "output_type": "stream",
     "text": [
      "C:\\Program Files\\Anaconda3\\lib\\site-packages\\arch\\univariate\\base.py:510: ConvergenceWarning: \n",
      "The optimizer returned code 8. The message is:\n",
      "Positive directional derivative for linesearch\n",
      "See scipy.optimize.fmin_slsqp for code meaning.\n",
      "\n",
      "  ConvergenceWarning)\n"
     ]
    }
   ],
   "source": [
    "# ARMA（1）\n",
    "b = np.min(select)  #找到AIC最小的m\n",
    "m = select.argmin(axis=None,out=None)\n",
    "am = arch_model(data[column_1],lags=1,vol='ARCH',p=m)\n",
    "result = am.fit(update_freq=6)\n",
    "print (result.summary())"
   ]
  },
  {
   "cell_type": "code",
   "execution_count": 4,
   "metadata": {
    "collapsed": false
   },
   "outputs": [
    {
     "name": "stdout",
     "output_type": "stream",
     "text": [
      "Inequality constraints incompatible    (Exit mode 4)\n",
      "            Current function value: -80486.0872139\n",
      "            Iterations: 1\n",
      "            Function evaluations: 6\n",
      "            Gradient evaluations: 1\n",
      "                     Constant Mean - GARCH Model Results                      \n",
      "==============================================================================\n",
      "Dep. Variable:                 vwretd   R-squared:                       0.000\n",
      "Mean Model:             Constant Mean   Adj. R-squared:                  0.000\n",
      "Vol Model:                      GARCH   Log-Likelihood:                80486.1\n",
      "Distribution:                  Normal   AIC:                          -160964.\n",
      "Method:            Maximum Likelihood   BIC:                          -160932.\n",
      "                                        No. Observations:                23786\n",
      "Date:                Fri, Dec 30 2016   Df Residuals:                    23782\n",
      "Time:                        20:23:57   Df Model:                            4\n",
      "                                  Mean Model                                  \n",
      "==============================================================================\n",
      "                 coef    std err          t      P>|t|        95.0% Conf. Int.\n",
      "------------------------------------------------------------------------------\n",
      "mu         4.0592e-04  4.494e-05      9.032  1.690e-19   [3.178e-04,4.940e-04]\n",
      "                               Volatility Model                               \n",
      "==============================================================================\n",
      "                 coef    std err          t      P>|t|        95.0% Conf. Int.\n",
      "------------------------------------------------------------------------------\n",
      "omega      2.2669e-06  7.542e-13  3.006e+06      0.000   [2.267e-06,2.267e-06]\n",
      "alpha[1]       0.1000  2.768e-03     36.129 7.817e-286     [9.458e-02,  0.105]\n",
      "beta[1]        0.8800  3.030e-03    290.441      0.000       [  0.874,  0.886]\n",
      "==============================================================================\n",
      "\n",
      "Covariance estimator: robust\n",
      "\n",
      "WARNING: The optimizer did not indicate sucessful convergence. The message was\n",
      "Inequality constraints incompatible. See convergence_flag.\n"
     ]
    },
    {
     "name": "stderr",
     "output_type": "stream",
     "text": [
      "C:\\Program Files\\Anaconda3\\lib\\site-packages\\arch\\univariate\\base.py:510: ConvergenceWarning: \n",
      "The optimizer returned code 4. The message is:\n",
      "Inequality constraints incompatible\n",
      "See scipy.optimize.fmin_slsqp for code meaning.\n",
      "\n",
      "  ConvergenceWarning)\n"
     ]
    }
   ],
   "source": [
    "#GARCH(1,1)  ==> prediction of conditional vilatility\n",
    "am = arch_model(data[column_1],p=1,q=1)\n",
    "result = am.fit(update_freq=6)\n",
    "print (result.summary())"
   ]
  },
  {
   "cell_type": "code",
   "execution_count": 5,
   "metadata": {
    "collapsed": false
   },
   "outputs": [
    {
     "data": {
      "image/png": "[encoded data removed]",
      "text/plain": [
       "<matplotlib.figure.Figure at 0x2135a07bb38>"
      ]
     },
     "execution_count": 5,
     "metadata": {},
     "output_type": "execute_result"
    }
   ],
   "source": [
    "#畫圖\n",
    "result.plot()"
   ]
  },
  {
   "cell_type": "code",
   "execution_count": null,
   "metadata": {
    "collapsed": true
   },
   "outputs": [],
   "source": []
  }
 ],
 "metadata": {
  "anaconda-cloud": {},
  "kernelspec": {
   "display_name": "Python [conda root]",
   "language": "python",
   "name": "conda-root-py"
  },
  "language_info": {
   "codemirror_mode": {
    "name": "ipython",
    "version": 3
   },
   "file_extension": ".py",
   "mimetype": "text/x-python",
   "name": "python",
   "nbconvert_exporter": "python",
   "pygments_lexer": "ipython3",
   "version": "3.5.2"
  }
 },
 "nbformat": 4,
 "nbformat_minor": 1
}
